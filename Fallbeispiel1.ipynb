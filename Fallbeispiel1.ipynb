{
 "cells": [
  {
   "cell_type": "code",
   "execution_count": 183,
   "metadata": {
    "pycharm": {
     "name": "#%%\n"
    }
   },
   "outputs": [
    {
     "name": "stdout",
     "output_type": "stream",
     "text": [
      "0.25.3\n"
     ]
    }
   ],
   "source": [
    "#https://becominghuman.ai/linear-regression-in-python-with-pandas-scikit-learn-72574a2ec1a5\n",
    "import pandas as pd\n",
    "import numpy as np\n",
    "import matplotlib.pyplot as plt\n",
    "from sklearn import datasets, linear_model\n",
    "import altair as alt #https://cmdlinetips.com/2019/12/barplots-scatter-plots-boxplots-with-altair-4-0/\n",
    "print(pd.__version__)\n",
    "#https://pandas.pydata.org/pandas-docs/stable/user_guide/visualization.html\n"
   ]
  },
  {
   "cell_type": "code",
   "execution_count": 184,
   "metadata": {
    "pycharm": {
     "name": "#%%\n"
    }
   },
   "outputs": [
    {
     "data": {
      "text/plain": [
       "<bound method NDFrame.head of     obs  Preis Alter     KM\n",
       "0     1  16990  2,37  46200\n",
       "1     2  14000  3,38  92600\n",
       "2     3  18000  2,28  35000\n",
       "3     4  14500  3,38  73000\n",
       "4     5  14100  3,46  84400\n",
       "..  ...    ...   ...    ...\n",
       "56   57  16900  2,11  55000\n",
       "57   58  19980  0,59   1500\n",
       "58   59  20000  1,27  16500\n",
       "59   60  18500  1,69  29300\n",
       "60   61  14000  3,21  56400\n",
       "\n",
       "[61 rows x 4 columns]>"
      ]
     },
     "execution_count": 184,
     "metadata": {},
     "output_type": "execute_result"
    }
   ],
   "source": [
    "file = r'/Users/felix.baertschi/Documents/BFH/Regression/daten/1_Autopreise.xlsx'\n",
    "#df = pd.read_excel(\"/Users/felix.baertschi/Documents/BFH/Regression/Autopreise.xlsx\")\n",
    "df = pd.read_excel(file)\n",
    "df.head"
   ]
  },
  {
   "cell_type": "code",
   "execution_count": 185,
   "metadata": {
    "pycharm": {
     "name": "#%%\n"
    }
   },
   "outputs": [
    {
     "data": {
      "text/html": [
       "<div>\n",
       "<style scoped>\n",
       "    .dataframe tbody tr th:only-of-type {\n",
       "        vertical-align: middle;\n",
       "    }\n",
       "\n",
       "    .dataframe tbody tr th {\n",
       "        vertical-align: top;\n",
       "    }\n",
       "\n",
       "    .dataframe thead th {\n",
       "        text-align: right;\n",
       "    }\n",
       "</style>\n",
       "<table border=\"1\" class=\"dataframe\">\n",
       "  <thead>\n",
       "    <tr style=\"text-align: right;\">\n",
       "      <th></th>\n",
       "      <th>obs</th>\n",
       "      <th>Preis</th>\n",
       "      <th>KM</th>\n",
       "    </tr>\n",
       "  </thead>\n",
       "  <tbody>\n",
       "    <tr>\n",
       "      <th>count</th>\n",
       "      <td>61.000000</td>\n",
       "      <td>61.000000</td>\n",
       "      <td>61.000000</td>\n",
       "    </tr>\n",
       "    <tr>\n",
       "      <th>mean</th>\n",
       "      <td>31.000000</td>\n",
       "      <td>16140.163934</td>\n",
       "      <td>53367.721311</td>\n",
       "    </tr>\n",
       "    <tr>\n",
       "      <th>std</th>\n",
       "      <td>17.752934</td>\n",
       "      <td>4029.834774</td>\n",
       "      <td>42556.395192</td>\n",
       "    </tr>\n",
       "    <tr>\n",
       "      <th>min</th>\n",
       "      <td>1.000000</td>\n",
       "      <td>6700.000000</td>\n",
       "      <td>1500.000000</td>\n",
       "    </tr>\n",
       "    <tr>\n",
       "      <th>25%</th>\n",
       "      <td>16.000000</td>\n",
       "      <td>14000.000000</td>\n",
       "      <td>22500.000000</td>\n",
       "    </tr>\n",
       "    <tr>\n",
       "      <th>50%</th>\n",
       "      <td>31.000000</td>\n",
       "      <td>16900.000000</td>\n",
       "      <td>35900.000000</td>\n",
       "    </tr>\n",
       "    <tr>\n",
       "      <th>75%</th>\n",
       "      <td>46.000000</td>\n",
       "      <td>18500.000000</td>\n",
       "      <td>75000.000000</td>\n",
       "    </tr>\n",
       "    <tr>\n",
       "      <th>max</th>\n",
       "      <td>61.000000</td>\n",
       "      <td>28400.000000</td>\n",
       "      <td>188000.000000</td>\n",
       "    </tr>\n",
       "  </tbody>\n",
       "</table>\n",
       "</div>"
      ],
      "text/plain": [
       "             obs         Preis             KM\n",
       "count  61.000000     61.000000      61.000000\n",
       "mean   31.000000  16140.163934   53367.721311\n",
       "std    17.752934   4029.834774   42556.395192\n",
       "min     1.000000   6700.000000    1500.000000\n",
       "25%    16.000000  14000.000000   22500.000000\n",
       "50%    31.000000  16900.000000   35900.000000\n",
       "75%    46.000000  18500.000000   75000.000000\n",
       "max    61.000000  28400.000000  188000.000000"
      ]
     },
     "execution_count": 185,
     "metadata": {},
     "output_type": "execute_result"
    }
   ],
   "source": [
    "#something like summary\n",
    "df.describe()\n",
    "\n"
   ]
  },
  {
   "cell_type": "code",
   "execution_count": 186,
   "metadata": {
    "pycharm": {
     "name": "#%%\n"
    }
   },
   "outputs": [
    {
     "data": {
      "text/plain": [
       "<bound method NDFrame.head of     obs  Preis Alter     KM\n",
       "0     1  16990  2.37  46200\n",
       "1     2  14000  3.38  92600\n",
       "2     3  18000  2.28  35000\n",
       "3     4  14500  3.38  73000\n",
       "4     5  14100  3.46  84400\n",
       "..  ...    ...   ...    ...\n",
       "56   57  16900  2.11  55000\n",
       "57   58  19980  0.59   1500\n",
       "58   59  20000  1.27  16500\n",
       "59   60  18500  1.69  29300\n",
       "60   61  14000  3.21  56400\n",
       "\n",
       "[61 rows x 4 columns]>"
      ]
     },
     "execution_count": 186,
     "metadata": {},
     "output_type": "execute_result"
    }
   ],
   "source": [
    "#Replace \",\" with \".\"\n",
    "df['Alter'] = df['Alter'].str.replace(',','.')\n",
    "df.head"
   ]
  },
  {
   "cell_type": "code",
   "execution_count": 187,
   "metadata": {
    "pycharm": {
     "name": "#%%\n"
    }
   },
   "outputs": [
    {
     "data": {
      "text/plain": [
       "obs        int64\n",
       "Preis      int64\n",
       "Alter    float64\n",
       "KM         int64\n",
       "dtype: object"
      ]
     },
     "execution_count": 187,
     "metadata": {},
     "output_type": "execute_result"
    }
   ],
   "source": [
    "#convert string to int\n",
    "df['Alter'] = df['Alter'].apply(float)\n",
    "df.dtypes"
   ]
  },
  {
   "cell_type": "code",
   "execution_count": 188,
   "metadata": {
    "pycharm": {
     "name": "#%%\n"
    }
   },
   "outputs": [
    {
     "data": {
      "text/plain": [
       "<matplotlib.axes._subplots.AxesSubplot at 0x1205092e8>"
      ]
     },
     "execution_count": 188,
     "metadata": {},
     "output_type": "execute_result"
    },
    {
     "data": {
      "image/png": "[encoded data removed]",
      "text/plain": [
       "<Figure size 1296x360 with 1 Axes>"
      ]
     },
     "metadata": {
      "needs_background": "light"
     },
     "output_type": "display_data"
    }
   ],
   "source": [
    "df.plot(figsize=(18,5))\n"
   ]
  },
  {
   "cell_type": "code",
   "execution_count": 189,
   "metadata": {
    "pycharm": {
     "name": "#%%\n"
    }
   },
   "outputs": [
    {
     "data": {
      "text/plain": [
       "False"
      ]
     },
     "execution_count": 189,
     "metadata": {},
     "output_type": "execute_result"
    }
   ],
   "source": [
    "#Checking for any missing values\n",
    "df.isnull().values.any()\n",
    "#The “False” output confirms that there are no null values in the dataframe.\n",
    "\n"
   ]
  },
  {
   "cell_type": "code",
   "execution_count": 190,
   "metadata": {
    "pycharm": {
     "name": "#%%\n"
    }
   },
   "outputs": [
    {
     "data": {
      "text/plain": [
       "array([[<matplotlib.axes._subplots.AxesSubplot object at 0x1204fc128>,\n",
       "        <matplotlib.axes._subplots.AxesSubplot object at 0x120459a20>],\n",
       "       [<matplotlib.axes._subplots.AxesSubplot object at 0x11fdd9f98>,\n",
       "        <matplotlib.axes._subplots.AxesSubplot object at 0x11fcf7048>]],\n",
       "      dtype=object)"
      ]
     },
     "execution_count": 190,
     "metadata": {},
     "output_type": "execute_result"
    },
    {
     "data": {
      "image/png": "[encoded data removed]",
      "text/plain": [
       "<Figure size 432x288 with 4 Axes>"
      ]
     },
     "metadata": {
      "needs_background": "light"
     },
     "output_type": "display_data"
    }
   ],
   "source": [
    "#Create histogram for KM, Preis, Alter\n",
    "df.hist(column=[\"KM\",\"Preis\",\"Alter\"])\n"
   ]
  },
  {
   "cell_type": "code",
   "execution_count": 191,
   "metadata": {
    "pycharm": {
     "name": "#%%\n"
    }
   },
   "outputs": [
    {
     "data": {
      "text/html": [
       "\n",
       "<div id=\"altair-viz-ab2b900ed6d84d2f8d525921005e0ebc\"></div>\n",
       "<script type=\"text/javascript\">\n",
       "  (function(spec, embedOpt){\n",
       "    const outputDiv = document.getElementById(\"altair-viz-ab2b900ed6d84d2f8d525921005e0ebc\");\n",
       "    const paths = {\n",
       "      \"vega\": \"https://cdn.jsdelivr.net/npm//vega@5?noext\",\n",
       "      \"vega-lib\": \"https://cdn.jsdelivr.net/npm//vega-lib?noext\",\n",
       "      \"vega-lite\": \"https://cdn.jsdelivr.net/npm//vega-lite@4.0.2?noext\",\n",
       "      \"vega-embed\": \"https://cdn.jsdelivr.net/npm//vega-embed@6?noext\",\n",
       "    };\n",
       "\n",
       "    function loadScript(lib) {\n",
       "      return new Promise(function(resolve, reject) {\n",
       "        var s = document.createElement('script');\n",
       "        s.src = paths[lib];\n",
       "        s.async = true;\n",
       "        s.onload = () => resolve(paths[lib]);\n",
       "        s.onerror = () => reject(`Error loading script: ${paths[lib]}`);\n",
       "        document.getElementsByTagName(\"head\")[0].appendChild(s);\n",
       "      });\n",
       "    }\n",
       "\n",
       "    function showError(err) {\n",
       "      outputDiv.innerHTML = `<div class=\"error\" style=\"color:red;\">${err}</div>`;\n",
       "      throw err;\n",
       "    }\n",
       "\n",
       "    function displayChart(vegaEmbed) {\n",
       "      vegaEmbed(outputDiv, spec, embedOpt)\n",
       "        .catch(err => showError(`Javascript Error: ${err.message}<br>This usually means there's a typo in your chart specification. See the javascript console for the full traceback.`));\n",
       "    }\n",
       "\n",
       "    if(typeof define === \"function\" && define.amd) {\n",
       "      requirejs.config({paths});\n",
       "      require([\"vega-embed\"], displayChart, err => showError(`Error loading script: ${err.message}`));\n",
       "    } else if (typeof vegaEmbed === \"function\") {\n",
       "      displayChart(vegaEmbed);\n",
       "    } else {\n",
       "      loadScript(\"vega\")\n",
       "        .then(() => loadScript(\"vega-lite\"))\n",
       "        .then(() => loadScript(\"vega-embed\"))\n",
       "        .catch(showError)\n",
       "        .then(() => displayChart(vegaEmbed));\n",
       "    }\n",
       "  })({\"config\": {\"view\": {\"continuousWidth\": 400, \"continuousHeight\": 300}}, \"data\": {\"name\": \"data-39f9811772bb6e80e6bed2a18e547576\"}, \"mark\": \"bar\", \"encoding\": {\"x\": {\"type\": \"quantitative\", \"field\": \"KM\"}}, \"$schema\": \"https://vega.github.io/schema/vega-lite/v4.0.2.json\", \"datasets\": {\"data-39f9811772bb6e80e6bed2a18e547576\": [{\"obs\": 1, \"Preis\": 16990, \"Alter\": 2.37, \"KM\": 46200}, {\"obs\": 2, \"Preis\": 14000, \"Alter\": 3.38, \"KM\": 92600}, {\"obs\": 3, \"Preis\": 18000, \"Alter\": 2.28, \"KM\": 35000}, {\"obs\": 4, \"Preis\": 14500, \"Alter\": 3.38, \"KM\": 73000}, {\"obs\": 5, \"Preis\": 14100, \"Alter\": 3.46, \"KM\": 84400}, {\"obs\": 6, \"Preis\": 13480, \"Alter\": 3.55, \"KM\": 137500}, {\"obs\": 7, \"Preis\": 18000, \"Alter\": 2.53, \"KM\": 23000}, {\"obs\": 8, \"Preis\": 12350, \"Alter\": 4.23, \"KM\": 73000}, {\"obs\": 9, \"Preis\": 23900, \"Alter\": 0.17, \"KM\": 1800}, {\"obs\": 10, \"Preis\": 15900, \"Alter\": 2.87, \"KM\": 40500}, {\"obs\": 11, \"Preis\": 11100, \"Alter\": 5.33, \"KM\": 120300}, {\"obs\": 12, \"Preis\": 17800, \"Alter\": 1.86, \"KM\": 35000}, {\"obs\": 13, \"Preis\": 11900, \"Alter\": 4.73, \"KM\": 73900}, {\"obs\": 14, \"Preis\": 17700, \"Alter\": 2.28, \"KM\": 25100}, {\"obs\": 15, \"Preis\": 14320, \"Alter\": 3.81, \"KM\": 67210}, {\"obs\": 16, \"Preis\": 15000, \"Alter\": 2.7, \"KM\": 51500}, {\"obs\": 17, \"Preis\": 17500, \"Alter\": 2.37, \"KM\": 35900}, {\"obs\": 18, \"Preis\": 10700, \"Alter\": 4.56, \"KM\": 144000}, {\"obs\": 19, \"Preis\": 16900, \"Alter\": 2.7, \"KM\": 22000}, {\"obs\": 20, \"Preis\": 24000, \"Alter\": 0.34, \"KM\": 5500}, {\"obs\": 21, \"Preis\": 16900, \"Alter\": 1.69, \"KM\": 31000}, {\"obs\": 22, \"Preis\": 17200, \"Alter\": 2.79, \"KM\": 27570}, {\"obs\": 23, \"Preis\": 28400, \"Alter\": 0.26, \"KM\": 1500}, {\"obs\": 24, \"Preis\": 15600, \"Alter\": 2.28, \"KM\": 21700}, {\"obs\": 25, \"Preis\": 15200, \"Alter\": 2.53, \"KM\": 27000}, {\"obs\": 26, \"Preis\": 10000, \"Alter\": 4.31, \"KM\": 100500}, {\"obs\": 27, \"Preis\": 8950, \"Alter\": 5.24, \"KM\": 132000}, {\"obs\": 28, \"Preis\": 14000, \"Alter\": 3.55, \"KM\": 97700}, {\"obs\": 29, \"Preis\": 18500, \"Alter\": 1.69, \"KM\": 28660}, {\"obs\": 30, \"Preis\": 21850, \"Alter\": 1.61, \"KM\": 25900}, {\"obs\": 31, \"Preis\": 13250, \"Alter\": 3.81, \"KM\": 58000}, {\"obs\": 32, \"Preis\": 15300, \"Alter\": 3.55, \"KM\": 73000}, {\"obs\": 33, \"Preis\": 20100, \"Alter\": 0.84, \"KM\": 18000}, {\"obs\": 34, \"Preis\": 18890, \"Alter\": 1.1, \"KM\": 13181}, {\"obs\": 35, \"Preis\": 19000, \"Alter\": 1.36, \"KM\": 19000}, {\"obs\": 36, \"Preis\": 18600, \"Alter\": 2.11, \"KM\": 27000}, {\"obs\": 37, \"Preis\": 10200, \"Alter\": 4.99, \"KM\": 90000}, {\"obs\": 38, \"Preis\": 17700, \"Alter\": 2.03, \"KM\": 33000}, {\"obs\": 39, \"Preis\": 18890, \"Alter\": 1.27, \"KM\": 22500}, {\"obs\": 40, \"Preis\": 14500, \"Alter\": 3.38, \"KM\": 49000}, {\"obs\": 41, \"Preis\": 18500, \"Alter\": 2.11, \"KM\": 25880}, {\"obs\": 42, \"Preis\": 19700, \"Alter\": 1.43, \"KM\": 14100}, {\"obs\": 43, \"Preis\": 6700, \"Alter\": 5.49, \"KM\": 142000}, {\"obs\": 44, \"Preis\": 19700, \"Alter\": 1.02, \"KM\": 12600}, {\"obs\": 45, \"Preis\": 15500, \"Alter\": 3.13, \"KM\": 39000}, {\"obs\": 46, \"Preis\": 14500, \"Alter\": 2.28, \"KM\": 83300}, {\"obs\": 47, \"Preis\": 12500, \"Alter\": 4.23, \"KM\": 59200}, {\"obs\": 48, \"Preis\": 11500, \"Alter\": 4.48, \"KM\": 118000}, {\"obs\": 49, \"Preis\": 17500, \"Alter\": 2.11, \"KM\": 29800}, {\"obs\": 50, \"Preis\": 18500, \"Alter\": 2.11, \"KM\": 19230}, {\"obs\": 51, \"Preis\": 10500, \"Alter\": 4.9, \"KM\": 107000}, {\"obs\": 52, \"Preis\": 19300, \"Alter\": 1.19, \"KM\": 5000}, {\"obs\": 53, \"Preis\": 22800, \"Alter\": 0.26, \"KM\": 5000}, {\"obs\": 54, \"Preis\": 10000, \"Alter\": 3.78, \"KM\": 188000}, {\"obs\": 55, \"Preis\": 12350, \"Alter\": 3.72, \"KM\": 75000}, {\"obs\": 56, \"Preis\": 14450, \"Alter\": 2.87, \"KM\": 90000}, {\"obs\": 57, \"Preis\": 16900, \"Alter\": 2.11, \"KM\": 55000}, {\"obs\": 58, \"Preis\": 19980, \"Alter\": 0.59, \"KM\": 1500}, {\"obs\": 59, \"Preis\": 20000, \"Alter\": 1.27, \"KM\": 16500}, {\"obs\": 60, \"Preis\": 18500, \"Alter\": 1.69, \"KM\": 29300}, {\"obs\": 61, \"Preis\": 14000, \"Alter\": 3.21, \"KM\": 56400}]}}, {\"mode\": \"vega-lite\"});\n",
       "</script>"
      ],
      "text/plain": [
       "alt.Chart(...)"
      ]
     },
     "execution_count": 191,
     "metadata": {},
     "output_type": "execute_result"
    }
   ],
   "source": [
    "# simple barplot with Altair\n",
    "barplot_altair = alt.Chart(df).mark_bar().encode(\n",
    "    x='KM'\n",
    ")\n",
    "# plot bar chart\n",
    "barplot_altair\n"
   ]
  },
  {
   "cell_type": "code",
   "execution_count": 192,
   "metadata": {
    "pycharm": {
     "name": "#%%\n"
    }
   },
   "outputs": [
    {
     "data": {
      "image/png": "[encoded data removed]",
      "text/plain": [
       "<Figure size 432x288 with 1 Axes>"
      ]
     },
     "metadata": {
      "needs_background": "light"
     },
     "output_type": "display_data"
    }
   ],
   "source": [
    "#Scatterplot for Preis vs ALter\n",
    "sp1 = plt.scatter(df[\"Alter\"], df[\"Preis\"])\n"
   ]
  },
  {
   "cell_type": "code",
   "execution_count": 193,
   "metadata": {
    "pycharm": {
     "name": "#%%\n"
    }
   },
   "outputs": [
    {
     "data": {
      "text/plain": [
       "<matplotlib.collections.PathCollection at 0x1206b6940>"
      ]
     },
     "execution_count": 193,
     "metadata": {},
     "output_type": "execute_result"
    },
    {
     "data": {
      "image/png": "[encoded data removed]",
      "text/plain": [
       "<Figure size 432x288 with 1 Axes>"
      ]
     },
     "metadata": {
      "needs_background": "light"
     },
     "output_type": "display_data"
    }
   ],
   "source": [
    "#Scatterplot for Preis vs KM\n",
    "plt.scatter(df[\"KM\"], df[\"Preis\"])\n",
    "\n"
   ]
  },
  {
   "cell_type": "code",
   "execution_count": 194,
   "metadata": {
    "pycharm": {
     "name": "#%%\n"
    }
   },
   "outputs": [
    {
     "data": {
      "text/plain": [
       "LinearRegression(copy_X=True, fit_intercept=True, n_jobs=None, normalize=False)"
      ]
     },
     "execution_count": 194,
     "metadata": {},
     "output_type": "execute_result"
    }
   ],
   "source": [
    "x = df[[\"Alter\"]]\n",
    "y = df[[\"Preis\"]]\n",
    "regr = linear_model.LinearRegression()\n",
    "regr.fit(x,y)\n"
   ]
  },
  {
   "cell_type": "code",
   "execution_count": 195,
   "metadata": {
    "pycharm": {
     "name": "#%%\n"
    }
   },
   "outputs": [
    {
     "data": {
      "image/png": "[encoded data removed]",
      "text/plain": [
       "<Figure size 432x288 with 1 Axes>"
      ]
     },
     "metadata": {},
     "output_type": "display_data"
    }
   ],
   "source": [
    "# plot it as in the example at http://scikit-learn.org/\n",
    "plt.scatter(x, y,  color='red')\n",
    "plt.plot(x, regr.predict(x), color='blue', linewidth=3)\n",
    "plt.title('Alter vs Preis')\n",
    "plt.xlabel('Alter')\n",
    "plt.ylabel('Preis')\n",
    "plt.xticks(())\n",
    "plt.yticks(())\n",
    "plt.show()\n"
   ]
  },
  {
   "cell_type": "code",
   "execution_count": 196,
   "metadata": {
    "pycharm": {
     "name": "#%%\n"
    }
   },
   "outputs": [
    {
     "data": {
      "text/html": [
       "\n",
       "<div id=\"altair-viz-77996f6cae9c4f7fb0aa7ae9946f856a\"></div>\n",
       "<script type=\"text/javascript\">\n",
       "  (function(spec, embedOpt){\n",
       "    const outputDiv = document.getElementById(\"altair-viz-77996f6cae9c4f7fb0aa7ae9946f856a\");\n",
       "    const paths = {\n",
       "      \"vega\": \"https://cdn.jsdelivr.net/npm//vega@5?noext\",\n",
       "      \"vega-lib\": \"https://cdn.jsdelivr.net/npm//vega-lib?noext\",\n",
       "      \"vega-lite\": \"https://cdn.jsdelivr.net/npm//vega-lite@4.0.2?noext\",\n",
       "      \"vega-embed\": \"https://cdn.jsdelivr.net/npm//vega-embed@6?noext\",\n",
       "    };\n",
       "\n",
       "    function loadScript(lib) {\n",
       "      return new Promise(function(resolve, reject) {\n",
       "        var s = document.createElement('script');\n",
       "        s.src = paths[lib];\n",
       "        s.async = true;\n",
       "        s.onload = () => resolve(paths[lib]);\n",
       "        s.onerror = () => reject(`Error loading script: ${paths[lib]}`);\n",
       "        document.getElementsByTagName(\"head\")[0].appendChild(s);\n",
       "      });\n",
       "    }\n",
       "\n",
       "    function showError(err) {\n",
       "      outputDiv.innerHTML = `<div class=\"error\" style=\"color:red;\">${err}</div>`;\n",
       "      throw err;\n",
       "    }\n",
       "\n",
       "    function displayChart(vegaEmbed) {\n",
       "      vegaEmbed(outputDiv, spec, embedOpt)\n",
       "        .catch(err => showError(`Javascript Error: ${err.message}<br>This usually means there's a typo in your chart specification. See the javascript console for the full traceback.`));\n",
       "    }\n",
       "\n",
       "    if(typeof define === \"function\" && define.amd) {\n",
       "      requirejs.config({paths});\n",
       "      require([\"vega-embed\"], displayChart, err => showError(`Error loading script: ${err.message}`));\n",
       "    } else if (typeof vegaEmbed === \"function\") {\n",
       "      displayChart(vegaEmbed);\n",
       "    } else {\n",
       "      loadScript(\"vega\")\n",
       "        .then(() => loadScript(\"vega-lite\"))\n",
       "        .then(() => loadScript(\"vega-embed\"))\n",
       "        .catch(showError)\n",
       "        .then(() => displayChart(vegaEmbed));\n",
       "    }\n",
       "  })({\"config\": {\"view\": {\"continuousWidth\": 400, \"continuousHeight\": 300}}, \"data\": {\"name\": \"data-39f9811772bb6e80e6bed2a18e547576\"}, \"mark\": \"point\", \"encoding\": {\"x\": {\"type\": \"quantitative\", \"field\": \"Alter\"}, \"y\": {\"type\": \"quantitative\", \"field\": \"Preis\"}}, \"$schema\": \"https://vega.github.io/schema/vega-lite/v4.0.2.json\", \"datasets\": {\"data-39f9811772bb6e80e6bed2a18e547576\": [{\"obs\": 1, \"Preis\": 16990, \"Alter\": 2.37, \"KM\": 46200}, {\"obs\": 2, \"Preis\": 14000, \"Alter\": 3.38, \"KM\": 92600}, {\"obs\": 3, \"Preis\": 18000, \"Alter\": 2.28, \"KM\": 35000}, {\"obs\": 4, \"Preis\": 14500, \"Alter\": 3.38, \"KM\": 73000}, {\"obs\": 5, \"Preis\": 14100, \"Alter\": 3.46, \"KM\": 84400}, {\"obs\": 6, \"Preis\": 13480, \"Alter\": 3.55, \"KM\": 137500}, {\"obs\": 7, \"Preis\": 18000, \"Alter\": 2.53, \"KM\": 23000}, {\"obs\": 8, \"Preis\": 12350, \"Alter\": 4.23, \"KM\": 73000}, {\"obs\": 9, \"Preis\": 23900, \"Alter\": 0.17, \"KM\": 1800}, {\"obs\": 10, \"Preis\": 15900, \"Alter\": 2.87, \"KM\": 40500}, {\"obs\": 11, \"Preis\": 11100, \"Alter\": 5.33, \"KM\": 120300}, {\"obs\": 12, \"Preis\": 17800, \"Alter\": 1.86, \"KM\": 35000}, {\"obs\": 13, \"Preis\": 11900, \"Alter\": 4.73, \"KM\": 73900}, {\"obs\": 14, \"Preis\": 17700, \"Alter\": 2.28, \"KM\": 25100}, {\"obs\": 15, \"Preis\": 14320, \"Alter\": 3.81, \"KM\": 67210}, {\"obs\": 16, \"Preis\": 15000, \"Alter\": 2.7, \"KM\": 51500}, {\"obs\": 17, \"Preis\": 17500, \"Alter\": 2.37, \"KM\": 35900}, {\"obs\": 18, \"Preis\": 10700, \"Alter\": 4.56, \"KM\": 144000}, {\"obs\": 19, \"Preis\": 16900, \"Alter\": 2.7, \"KM\": 22000}, {\"obs\": 20, \"Preis\": 24000, \"Alter\": 0.34, \"KM\": 5500}, {\"obs\": 21, \"Preis\": 16900, \"Alter\": 1.69, \"KM\": 31000}, {\"obs\": 22, \"Preis\": 17200, \"Alter\": 2.79, \"KM\": 27570}, {\"obs\": 23, \"Preis\": 28400, \"Alter\": 0.26, \"KM\": 1500}, {\"obs\": 24, \"Preis\": 15600, \"Alter\": 2.28, \"KM\": 21700}, {\"obs\": 25, \"Preis\": 15200, \"Alter\": 2.53, \"KM\": 27000}, {\"obs\": 26, \"Preis\": 10000, \"Alter\": 4.31, \"KM\": 100500}, {\"obs\": 27, \"Preis\": 8950, \"Alter\": 5.24, \"KM\": 132000}, {\"obs\": 28, \"Preis\": 14000, \"Alter\": 3.55, \"KM\": 97700}, {\"obs\": 29, \"Preis\": 18500, \"Alter\": 1.69, \"KM\": 28660}, {\"obs\": 30, \"Preis\": 21850, \"Alter\": 1.61, \"KM\": 25900}, {\"obs\": 31, \"Preis\": 13250, \"Alter\": 3.81, \"KM\": 58000}, {\"obs\": 32, \"Preis\": 15300, \"Alter\": 3.55, \"KM\": 73000}, {\"obs\": 33, \"Preis\": 20100, \"Alter\": 0.84, \"KM\": 18000}, {\"obs\": 34, \"Preis\": 18890, \"Alter\": 1.1, \"KM\": 13181}, {\"obs\": 35, \"Preis\": 19000, \"Alter\": 1.36, \"KM\": 19000}, {\"obs\": 36, \"Preis\": 18600, \"Alter\": 2.11, \"KM\": 27000}, {\"obs\": 37, \"Preis\": 10200, \"Alter\": 4.99, \"KM\": 90000}, {\"obs\": 38, \"Preis\": 17700, \"Alter\": 2.03, \"KM\": 33000}, {\"obs\": 39, \"Preis\": 18890, \"Alter\": 1.27, \"KM\": 22500}, {\"obs\": 40, \"Preis\": 14500, \"Alter\": 3.38, \"KM\": 49000}, {\"obs\": 41, \"Preis\": 18500, \"Alter\": 2.11, \"KM\": 25880}, {\"obs\": 42, \"Preis\": 19700, \"Alter\": 1.43, \"KM\": 14100}, {\"obs\": 43, \"Preis\": 6700, \"Alter\": 5.49, \"KM\": 142000}, {\"obs\": 44, \"Preis\": 19700, \"Alter\": 1.02, \"KM\": 12600}, {\"obs\": 45, \"Preis\": 15500, \"Alter\": 3.13, \"KM\": 39000}, {\"obs\": 46, \"Preis\": 14500, \"Alter\": 2.28, \"KM\": 83300}, {\"obs\": 47, \"Preis\": 12500, \"Alter\": 4.23, \"KM\": 59200}, {\"obs\": 48, \"Preis\": 11500, \"Alter\": 4.48, \"KM\": 118000}, {\"obs\": 49, \"Preis\": 17500, \"Alter\": 2.11, \"KM\": 29800}, {\"obs\": 50, \"Preis\": 18500, \"Alter\": 2.11, \"KM\": 19230}, {\"obs\": 51, \"Preis\": 10500, \"Alter\": 4.9, \"KM\": 107000}, {\"obs\": 52, \"Preis\": 19300, \"Alter\": 1.19, \"KM\": 5000}, {\"obs\": 53, \"Preis\": 22800, \"Alter\": 0.26, \"KM\": 5000}, {\"obs\": 54, \"Preis\": 10000, \"Alter\": 3.78, \"KM\": 188000}, {\"obs\": 55, \"Preis\": 12350, \"Alter\": 3.72, \"KM\": 75000}, {\"obs\": 56, \"Preis\": 14450, \"Alter\": 2.87, \"KM\": 90000}, {\"obs\": 57, \"Preis\": 16900, \"Alter\": 2.11, \"KM\": 55000}, {\"obs\": 58, \"Preis\": 19980, \"Alter\": 0.59, \"KM\": 1500}, {\"obs\": 59, \"Preis\": 20000, \"Alter\": 1.27, \"KM\": 16500}, {\"obs\": 60, \"Preis\": 18500, \"Alter\": 1.69, \"KM\": 29300}, {\"obs\": 61, \"Preis\": 14000, \"Alter\": 3.21, \"KM\": 56400}]}}, {\"mode\": \"vega-lite\"});\n",
       "</script>"
      ],
      "text/plain": [
       "alt.Chart(...)"
      ]
     },
     "execution_count": 196,
     "metadata": {},
     "output_type": "execute_result"
    }
   ],
   "source": [
    "chart = alt.Chart(df).mark_point().encode(\n",
    "    x='Alter',\n",
    "    y='Preis'\n",
    ")\n",
    "#.interactive()\n",
    "chart"
   ]
  },
  {
   "cell_type": "code",
   "execution_count": 197,
   "metadata": {
    "pycharm": {
     "name": "#%%\n"
    }
   },
   "outputs": [
    {
     "data": {
      "text/html": [
       "\n",
       "<div id=\"altair-viz-de60c688a7ac403b9a431782371c1d49\"></div>\n",
       "<script type=\"text/javascript\">\n",
       "  (function(spec, embedOpt){\n",
       "    const outputDiv = document.getElementById(\"altair-viz-de60c688a7ac403b9a431782371c1d49\");\n",
       "    const paths = {\n",
       "      \"vega\": \"https://cdn.jsdelivr.net/npm//vega@5?noext\",\n",
       "      \"vega-lib\": \"https://cdn.jsdelivr.net/npm//vega-lib?noext\",\n",
       "      \"vega-lite\": \"https://cdn.jsdelivr.net/npm//vega-lite@4.0.2?noext\",\n",
       "      \"vega-embed\": \"https://cdn.jsdelivr.net/npm//vega-embed@6?noext\",\n",
       "    };\n",
       "\n",
       "    function loadScript(lib) {\n",
       "      return new Promise(function(resolve, reject) {\n",
       "        var s = document.createElement('script');\n",
       "        s.src = paths[lib];\n",
       "        s.async = true;\n",
       "        s.onload = () => resolve(paths[lib]);\n",
       "        s.onerror = () => reject(`Error loading script: ${paths[lib]}`);\n",
       "        document.getElementsByTagName(\"head\")[0].appendChild(s);\n",
       "      });\n",
       "    }\n",
       "\n",
       "    function showError(err) {\n",
       "      outputDiv.innerHTML = `<div class=\"error\" style=\"color:red;\">${err}</div>`;\n",
       "      throw err;\n",
       "    }\n",
       "\n",
       "    function displayChart(vegaEmbed) {\n",
       "      vegaEmbed(outputDiv, spec, embedOpt)\n",
       "        .catch(err => showError(`Javascript Error: ${err.message}<br>This usually means there's a typo in your chart specification. See the javascript console for the full traceback.`));\n",
       "    }\n",
       "\n",
       "    if(typeof define === \"function\" && define.amd) {\n",
       "      requirejs.config({paths});\n",
       "      require([\"vega-embed\"], displayChart, err => showError(`Error loading script: ${err.message}`));\n",
       "    } else if (typeof vegaEmbed === \"function\") {\n",
       "      displayChart(vegaEmbed);\n",
       "    } else {\n",
       "      loadScript(\"vega\")\n",
       "        .then(() => loadScript(\"vega-lite\"))\n",
       "        .then(() => loadScript(\"vega-embed\"))\n",
       "        .catch(showError)\n",
       "        .then(() => displayChart(vegaEmbed));\n",
       "    }\n",
       "  })({\"config\": {\"view\": {\"continuousWidth\": 400, \"continuousHeight\": 300}}, \"layer\": [{\"mark\": \"point\", \"encoding\": {\"x\": {\"type\": \"quantitative\", \"field\": \"Alter\"}, \"y\": {\"type\": \"quantitative\", \"field\": \"Preis\"}}}, {\"mark\": {\"type\": \"line\", \"color\": \"red\"}, \"encoding\": {\"x\": {\"type\": \"quantitative\", \"field\": \"Alter\"}, \"y\": {\"type\": \"quantitative\", \"field\": \"Preis\"}}, \"transform\": [{\"on\": \"Alter\", \"regression\": \"Preis\", \"method\": \"linear\"}]}], \"data\": {\"name\": \"data-39f9811772bb6e80e6bed2a18e547576\"}, \"$schema\": \"https://vega.github.io/schema/vega-lite/v4.0.2.json\", \"datasets\": {\"data-39f9811772bb6e80e6bed2a18e547576\": [{\"obs\": 1, \"Preis\": 16990, \"Alter\": 2.37, \"KM\": 46200}, {\"obs\": 2, \"Preis\": 14000, \"Alter\": 3.38, \"KM\": 92600}, {\"obs\": 3, \"Preis\": 18000, \"Alter\": 2.28, \"KM\": 35000}, {\"obs\": 4, \"Preis\": 14500, \"Alter\": 3.38, \"KM\": 73000}, {\"obs\": 5, \"Preis\": 14100, \"Alter\": 3.46, \"KM\": 84400}, {\"obs\": 6, \"Preis\": 13480, \"Alter\": 3.55, \"KM\": 137500}, {\"obs\": 7, \"Preis\": 18000, \"Alter\": 2.53, \"KM\": 23000}, {\"obs\": 8, \"Preis\": 12350, \"Alter\": 4.23, \"KM\": 73000}, {\"obs\": 9, \"Preis\": 23900, \"Alter\": 0.17, \"KM\": 1800}, {\"obs\": 10, \"Preis\": 15900, \"Alter\": 2.87, \"KM\": 40500}, {\"obs\": 11, \"Preis\": 11100, \"Alter\": 5.33, \"KM\": 120300}, {\"obs\": 12, \"Preis\": 17800, \"Alter\": 1.86, \"KM\": 35000}, {\"obs\": 13, \"Preis\": 11900, \"Alter\": 4.73, \"KM\": 73900}, {\"obs\": 14, \"Preis\": 17700, \"Alter\": 2.28, \"KM\": 25100}, {\"obs\": 15, \"Preis\": 14320, \"Alter\": 3.81, \"KM\": 67210}, {\"obs\": 16, \"Preis\": 15000, \"Alter\": 2.7, \"KM\": 51500}, {\"obs\": 17, \"Preis\": 17500, \"Alter\": 2.37, \"KM\": 35900}, {\"obs\": 18, \"Preis\": 10700, \"Alter\": 4.56, \"KM\": 144000}, {\"obs\": 19, \"Preis\": 16900, \"Alter\": 2.7, \"KM\": 22000}, {\"obs\": 20, \"Preis\": 24000, \"Alter\": 0.34, \"KM\": 5500}, {\"obs\": 21, \"Preis\": 16900, \"Alter\": 1.69, \"KM\": 31000}, {\"obs\": 22, \"Preis\": 17200, \"Alter\": 2.79, \"KM\": 27570}, {\"obs\": 23, \"Preis\": 28400, \"Alter\": 0.26, \"KM\": 1500}, {\"obs\": 24, \"Preis\": 15600, \"Alter\": 2.28, \"KM\": 21700}, {\"obs\": 25, \"Preis\": 15200, \"Alter\": 2.53, \"KM\": 27000}, {\"obs\": 26, \"Preis\": 10000, \"Alter\": 4.31, \"KM\": 100500}, {\"obs\": 27, \"Preis\": 8950, \"Alter\": 5.24, \"KM\": 132000}, {\"obs\": 28, \"Preis\": 14000, \"Alter\": 3.55, \"KM\": 97700}, {\"obs\": 29, \"Preis\": 18500, \"Alter\": 1.69, \"KM\": 28660}, {\"obs\": 30, \"Preis\": 21850, \"Alter\": 1.61, \"KM\": 25900}, {\"obs\": 31, \"Preis\": 13250, \"Alter\": 3.81, \"KM\": 58000}, {\"obs\": 32, \"Preis\": 15300, \"Alter\": 3.55, \"KM\": 73000}, {\"obs\": 33, \"Preis\": 20100, \"Alter\": 0.84, \"KM\": 18000}, {\"obs\": 34, \"Preis\": 18890, \"Alter\": 1.1, \"KM\": 13181}, {\"obs\": 35, \"Preis\": 19000, \"Alter\": 1.36, \"KM\": 19000}, {\"obs\": 36, \"Preis\": 18600, \"Alter\": 2.11, \"KM\": 27000}, {\"obs\": 37, \"Preis\": 10200, \"Alter\": 4.99, \"KM\": 90000}, {\"obs\": 38, \"Preis\": 17700, \"Alter\": 2.03, \"KM\": 33000}, {\"obs\": 39, \"Preis\": 18890, \"Alter\": 1.27, \"KM\": 22500}, {\"obs\": 40, \"Preis\": 14500, \"Alter\": 3.38, \"KM\": 49000}, {\"obs\": 41, \"Preis\": 18500, \"Alter\": 2.11, \"KM\": 25880}, {\"obs\": 42, \"Preis\": 19700, \"Alter\": 1.43, \"KM\": 14100}, {\"obs\": 43, \"Preis\": 6700, \"Alter\": 5.49, \"KM\": 142000}, {\"obs\": 44, \"Preis\": 19700, \"Alter\": 1.02, \"KM\": 12600}, {\"obs\": 45, \"Preis\": 15500, \"Alter\": 3.13, \"KM\": 39000}, {\"obs\": 46, \"Preis\": 14500, \"Alter\": 2.28, \"KM\": 83300}, {\"obs\": 47, \"Preis\": 12500, \"Alter\": 4.23, \"KM\": 59200}, {\"obs\": 48, \"Preis\": 11500, \"Alter\": 4.48, \"KM\": 118000}, {\"obs\": 49, \"Preis\": 17500, \"Alter\": 2.11, \"KM\": 29800}, {\"obs\": 50, \"Preis\": 18500, \"Alter\": 2.11, \"KM\": 19230}, {\"obs\": 51, \"Preis\": 10500, \"Alter\": 4.9, \"KM\": 107000}, {\"obs\": 52, \"Preis\": 19300, \"Alter\": 1.19, \"KM\": 5000}, {\"obs\": 53, \"Preis\": 22800, \"Alter\": 0.26, \"KM\": 5000}, {\"obs\": 54, \"Preis\": 10000, \"Alter\": 3.78, \"KM\": 188000}, {\"obs\": 55, \"Preis\": 12350, \"Alter\": 3.72, \"KM\": 75000}, {\"obs\": 56, \"Preis\": 14450, \"Alter\": 2.87, \"KM\": 90000}, {\"obs\": 57, \"Preis\": 16900, \"Alter\": 2.11, \"KM\": 55000}, {\"obs\": 58, \"Preis\": 19980, \"Alter\": 0.59, \"KM\": 1500}, {\"obs\": 59, \"Preis\": 20000, \"Alter\": 1.27, \"KM\": 16500}, {\"obs\": 60, \"Preis\": 18500, \"Alter\": 1.69, \"KM\": 29300}, {\"obs\": 61, \"Preis\": 14000, \"Alter\": 3.21, \"KM\": 56400}]}}, {\"mode\": \"vega-lite\"});\n",
       "</script>"
      ],
      "text/plain": [
       "alt.LayerChart(...)"
      ]
     },
     "execution_count": 197,
     "metadata": {},
     "output_type": "execute_result"
    }
   ],
   "source": [
    "chart + chart.transform_regression('Alter', 'Preis',method=\"linear\"\n",
    ").mark_line(color=\"red\")\n",
    "\n"
   ]
  },
  {
   "cell_type": "code",
   "execution_count": null,
   "metadata": {
    "pycharm": {
     "name": "#%%\n"
    }
   },
   "outputs": [],
   "source": [
    "\n",
    "\n"
   ]
  },
  {
   "cell_type": "code",
   "execution_count": null,
   "metadata": {
    "pycharm": {
     "name": "#%%\n"
    }
   },
   "outputs": [],
   "source": [
    "\n"
   ]
  }
 ],
 "metadata": {
  "kernelspec": {
   "display_name": "Python 3",
   "language": "python",
   "name": "python3"
  },
  "language_info": {
   "codemirror_mode": {
    "name": "ipython",
    "version": 3
   },
   "file_extension": ".py",
   "mimetype": "text/x-python",
   "name": "python",
   "nbconvert_exporter": "python",
   "pygments_lexer": "ipython3",
   "version": "3.7.2"
  },
  "pycharm": {
   "stem_cell": {
    "cell_type": "raw",
    "metadata": {
     "collapsed": false
    },
    "source": []
   }
  }
 },
 "nbformat": 4,
 "nbformat_minor": 1
}
