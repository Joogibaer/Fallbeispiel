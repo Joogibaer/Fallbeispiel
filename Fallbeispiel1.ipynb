{
 "cells": [
  {
   "cell_type": "code",
   "execution_count": 62,
   "metadata": {
    "pycharm": {
     "name": "#%%\n",
     "is_executing": false
    }
   },
   "outputs": [
    {
     "name": "stdout",
     "text": [
      "1.0.1\n"
     ],
     "output_type": "stream"
    }
   ],
   "source": [
    "#https://becominghuman.ai/linear-regression-in-python-with-pandas-scikit-learn-72574a2ec1a5\n",
    "import pandas as pd #Data transformation\n",
    "import numpy as np #Math (Vector calculation)\n",
    "import matplotlib.pyplot as plt #Graphic's\n",
    "import seaborn as sns #Graphic's\n",
    "from sklearn import datasets, linear_model #ML\n",
    "import statsmodels.formula.api as smf\n",
    "import altair as alt #Graphic's #https://cmdlinetips.com/2019/12/barplots-scatter-plots-boxplots-with-altair-4-0/\n",
    "print(pd.__version__)\n",
    "#https://pandas.pydata.org/pandas-docs/stable/user_guide/visualization.html\n"
   ]
  },
  {
   "cell_type": "code",
   "execution_count": 63,
   "metadata": {
    "pycharm": {
     "name": "#%%\n",
     "is_executing": false
    }
   },
   "outputs": [
    {
     "data": {
      "text/plain": "   obs  Preis Alter     KM\n0    1  16990  2,37  46200\n1    2  14000  3,38  92600\n2    3  18000  2,28  35000\n3    4  14500  3,38  73000\n4    5  14100  3,46  84400",
      "text/html": "<div>\n<style scoped>\n    .dataframe tbody tr th:only-of-type {\n        vertical-align: middle;\n    }\n\n    .dataframe tbody tr th {\n        vertical-align: top;\n    }\n\n    .dataframe thead th {\n        text-align: right;\n    }\n</style>\n<table border=\"1\" class=\"dataframe\">\n  <thead>\n    <tr style=\"text-align: right;\">\n      <th></th>\n      <th>obs</th>\n      <th>Preis</th>\n      <th>Alter</th>\n      <th>KM</th>\n    </tr>\n  </thead>\n  <tbody>\n    <tr>\n      <th>0</th>\n      <td>1</td>\n      <td>16990</td>\n      <td>2,37</td>\n      <td>46200</td>\n    </tr>\n    <tr>\n      <th>1</th>\n      <td>2</td>\n      <td>14000</td>\n      <td>3,38</td>\n      <td>92600</td>\n    </tr>\n    <tr>\n      <th>2</th>\n      <td>3</td>\n      <td>18000</td>\n      <td>2,28</td>\n      <td>35000</td>\n    </tr>\n    <tr>\n      <th>3</th>\n      <td>4</td>\n      <td>14500</td>\n      <td>3,38</td>\n      <td>73000</td>\n    </tr>\n    <tr>\n      <th>4</th>\n      <td>5</td>\n      <td>14100</td>\n      <td>3,46</td>\n      <td>84400</td>\n    </tr>\n  </tbody>\n</table>\n</div>"
     },
     "metadata": {},
     "output_type": "execute_result",
     "execution_count": 63
    }
   ],
   "source": [
    "file = r'~/CAS_DA/regression/fallbeispiel_test/Autopreise.xlsx'\n",
    "df = pd.read_excel(file)\n",
    "df.head()"
   ]
  },
  {
   "cell_type": "code",
   "execution_count": 64,
   "metadata": {
    "pycharm": {
     "name": "#%%\n",
     "is_executing": false
    }
   },
   "outputs": [
    {
     "data": {
      "text/plain": "             obs         Preis             KM\ncount  61.000000     61.000000      61.000000\nmean   31.000000  16140.163934   53367.721311\nstd    17.752934   4029.834774   42556.395192\nmin     1.000000   6700.000000    1500.000000\n25%    16.000000  14000.000000   22500.000000\n50%    31.000000  16900.000000   35900.000000\n75%    46.000000  18500.000000   75000.000000\nmax    61.000000  28400.000000  188000.000000",
      "text/html": "<div>\n<style scoped>\n    .dataframe tbody tr th:only-of-type {\n        vertical-align: middle;\n    }\n\n    .dataframe tbody tr th {\n        vertical-align: top;\n    }\n\n    .dataframe thead th {\n        text-align: right;\n    }\n</style>\n<table border=\"1\" class=\"dataframe\">\n  <thead>\n    <tr style=\"text-align: right;\">\n      <th></th>\n      <th>obs</th>\n      <th>Preis</th>\n      <th>KM</th>\n    </tr>\n  </thead>\n  <tbody>\n    <tr>\n      <th>count</th>\n      <td>61.000000</td>\n      <td>61.000000</td>\n      <td>61.000000</td>\n    </tr>\n    <tr>\n      <th>mean</th>\n      <td>31.000000</td>\n      <td>16140.163934</td>\n      <td>53367.721311</td>\n    </tr>\n    <tr>\n      <th>std</th>\n      <td>17.752934</td>\n      <td>4029.834774</td>\n      <td>42556.395192</td>\n    </tr>\n    <tr>\n      <th>min</th>\n      <td>1.000000</td>\n      <td>6700.000000</td>\n      <td>1500.000000</td>\n    </tr>\n    <tr>\n      <th>25%</th>\n      <td>16.000000</td>\n      <td>14000.000000</td>\n      <td>22500.000000</td>\n    </tr>\n    <tr>\n      <th>50%</th>\n      <td>31.000000</td>\n      <td>16900.000000</td>\n      <td>35900.000000</td>\n    </tr>\n    <tr>\n      <th>75%</th>\n      <td>46.000000</td>\n      <td>18500.000000</td>\n      <td>75000.000000</td>\n    </tr>\n    <tr>\n      <th>max</th>\n      <td>61.000000</td>\n      <td>28400.000000</td>\n      <td>188000.000000</td>\n    </tr>\n  </tbody>\n</table>\n</div>"
     },
     "metadata": {},
     "output_type": "execute_result",
     "execution_count": 64
    }
   ],
   "source": [
    "df.describe()"
   ]
  },
  {
   "cell_type": "markdown",
   "metadata": {},
   "source": [
    "Replace \",\" with \".\""
   ]
  },
  {
   "cell_type": "code",
   "execution_count": 65,
   "metadata": {
    "pycharm": {
     "name": "#%%\n",
     "is_executing": false
    }
   },
   "outputs": [
    {
     "data": {
      "text/plain": "   obs  Preis Alter     KM\n0    1  16990  2.37  46200\n1    2  14000  3.38  92600\n2    3  18000  2.28  35000\n3    4  14500  3.38  73000\n4    5  14100  3.46  84400",
      "text/html": "<div>\n<style scoped>\n    .dataframe tbody tr th:only-of-type {\n        vertical-align: middle;\n    }\n\n    .dataframe tbody tr th {\n        vertical-align: top;\n    }\n\n    .dataframe thead th {\n        text-align: right;\n    }\n</style>\n<table border=\"1\" class=\"dataframe\">\n  <thead>\n    <tr style=\"text-align: right;\">\n      <th></th>\n      <th>obs</th>\n      <th>Preis</th>\n      <th>Alter</th>\n      <th>KM</th>\n    </tr>\n  </thead>\n  <tbody>\n    <tr>\n      <th>0</th>\n      <td>1</td>\n      <td>16990</td>\n      <td>2.37</td>\n      <td>46200</td>\n    </tr>\n    <tr>\n      <th>1</th>\n      <td>2</td>\n      <td>14000</td>\n      <td>3.38</td>\n      <td>92600</td>\n    </tr>\n    <tr>\n      <th>2</th>\n      <td>3</td>\n      <td>18000</td>\n      <td>2.28</td>\n      <td>35000</td>\n    </tr>\n    <tr>\n      <th>3</th>\n      <td>4</td>\n      <td>14500</td>\n      <td>3.38</td>\n      <td>73000</td>\n    </tr>\n    <tr>\n      <th>4</th>\n      <td>5</td>\n      <td>14100</td>\n      <td>3.46</td>\n      <td>84400</td>\n    </tr>\n  </tbody>\n</table>\n</div>"
     },
     "metadata": {},
     "output_type": "execute_result",
     "execution_count": 65
    }
   ],
   "source": [
    "df['Alter'] = df['Alter'].str.replace(',','.')\n",
    "df.head()"
   ]
  },
  {
   "cell_type": "code",
   "execution_count": 66,
   "metadata": {
    "pycharm": {
     "name": "#%%\n",
     "is_executing": false
    }
   },
   "outputs": [
    {
     "data": {
      "text/plain": "obs        int64\nPreis      int64\nAlter    float64\nKM         int64\ndtype: object"
     },
     "metadata": {},
     "output_type": "execute_result",
     "execution_count": 66
    }
   ],
   "source": [
    "#convert string to int\n",
    "df['Alter'] = df['Alter'].apply(float)\n",
    "df.dtypes"
   ]
  },
  {
   "cell_type": "markdown",
   "metadata": {},
   "source": [
    "Checking the diversity of the data. <br>\n",
    "Do we have different datapoints?"
   ]
  },
  {
   "cell_type": "code",
   "execution_count": 67,
   "metadata": {
    "pycharm": {
     "name": "#%%\n",
     "is_executing": false
    }
   },
   "outputs": [
    {
     "data": {
      "text/plain": "<matplotlib.axes._subplots.AxesSubplot at 0x11e2c8da0>"
     },
     "metadata": {},
     "output_type": "execute_result",
     "execution_count": 67
    },
    {
     "data": {
      "text/plain": "<Figure size 1296x360 with 1 Axes>",
      "image/png": "[encoded data removed]"
     },
     "metadata": {
      "needs_background": "light"
     },
     "output_type": "display_data"
    }
   ],
   "source": [
    "df.plot(figsize=(18,5))"
   ]
  },
  {
   "cell_type": "code",
   "execution_count": 68,
   "metadata": {
    "pycharm": {
     "is_executing": false
    }
   },
   "outputs": [
    {
     "data": {
      "text/plain": "<matplotlib.axes._subplots.AxesSubplot at 0x11e34a278>"
     },
     "metadata": {},
     "output_type": "execute_result",
     "execution_count": 68
    },
    {
     "data": {
      "text/plain": "<Figure size 1296x360 with 1 Axes>",
      "image/png": "[encoded data removed]"
     },
     "metadata": {
      "needs_background": "light"
     },
     "output_type": "display_data"
    }
   ],
   "source": [
    "df[\"Alter\"].plot(figsize=(18,5))"
   ]
  },
  {
   "cell_type": "markdown",
   "metadata": {},
   "source": [
    "Checking for any missing values\n",
    "The “False” output confirms that there are no null values in the dataframe."
   ]
  },
  {
   "cell_type": "code",
   "execution_count": 69,
   "metadata": {
    "pycharm": {
     "name": "#%%\n",
     "is_executing": false
    }
   },
   "outputs": [
    {
     "data": {
      "text/plain": "False"
     },
     "metadata": {},
     "output_type": "execute_result",
     "execution_count": 69
    }
   ],
   "source": [
    "df.isnull().values.any()"
   ]
  },
  {
   "cell_type": "raw",
   "metadata": {},
   "source": [
    "Diagrams"
   ]
  },
  {
   "cell_type": "code",
   "execution_count": 70,
   "metadata": {
    "pycharm": {
     "is_executing": false
    }
   },
   "outputs": [
    {
     "data": {
      "text/html": "\n<div id=\"altair-viz-468ee79c4c0b45859242b5c50841da89\"></div>\n<script type=\"text/javascript\">\n  (function(spec, embedOpt){\n    const outputDiv = document.getElementById(\"altair-viz-468ee79c4c0b45859242b5c50841da89\");\n    const paths = {\n      \"vega\": \"https://cdn.jsdelivr.net/npm//vega@5?noext\",\n      \"vega-lib\": \"https://cdn.jsdelivr.net/npm//vega-lib?noext\",\n      \"vega-lite\": \"https://cdn.jsdelivr.net/npm//vega-lite@4.0.2?noext\",\n      \"vega-embed\": \"https://cdn.jsdelivr.net/npm//vega-embed@6?noext\",\n    };\n\n    function loadScript(lib) {\n      return new Promise(function(resolve, reject) {\n        var s = document.createElement('script');\n        s.src = paths[lib];\n        s.async = true;\n        s.onload = () => resolve(paths[lib]);\n        s.onerror = () => reject(`Error loading script: ${paths[lib]}`);\n        document.getElementsByTagName(\"head\")[0].appendChild(s);\n      });\n    }\n\n    function showError(err) {\n      outputDiv.innerHTML = `<div class=\"error\" style=\"color:red;\">${err}</div>`;\n      throw err;\n    }\n\n    function displayChart(vegaEmbed) {\n      vegaEmbed(outputDiv, spec, embedOpt)\n        .catch(err => showError(`Javascript Error: ${err.message}<br>This usually means there's a typo in your chart specification. See the javascript console for the full traceback.`));\n    }\n\n    if(typeof define === \"function\" && define.amd) {\n      requirejs.config({paths});\n      require([\"vega-embed\"], displayChart, err => showError(`Error loading script: ${err.message}`));\n    } else if (typeof vegaEmbed === \"function\") {\n      displayChart(vegaEmbed);\n    } else {\n      loadScript(\"vega\")\n        .then(() => loadScript(\"vega-lite\"))\n        .then(() => loadScript(\"vega-embed\"))\n        .catch(showError)\n        .then(() => displayChart(vegaEmbed));\n    }\n  })({\"config\": {\"view\": {\"continuousWidth\": 400, \"continuousHeight\": 300}}, \"repeat\": {\"column\": [\"Preis\", \"Alter\"], \"row\": [\"KM\", \"Alter\"]}, \"spec\": {\"data\": {\"name\": \"data-39f9811772bb6e80e6bed2a18e547576\"}, \"mark\": \"bar\", \"encoding\": {\"color\": {\"type\": \"nominal\", \"field\": \"species\"}, \"x\": {\"type\": \"quantitative\", \"field\": {\"repeat\": \"column\"}}, \"y\": {\"type\": \"quantitative\", \"field\": {\"repeat\": \"row\"}}}, \"title\": \"Histogram\"}, \"$schema\": \"https://vega.github.io/schema/vega-lite/v4.0.2.json\", \"datasets\": {\"data-39f9811772bb6e80e6bed2a18e547576\": [{\"obs\": 1, \"Preis\": 16990, \"Alter\": 2.37, \"KM\": 46200}, {\"obs\": 2, \"Preis\": 14000, \"Alter\": 3.38, \"KM\": 92600}, {\"obs\": 3, \"Preis\": 18000, \"Alter\": 2.28, \"KM\": 35000}, {\"obs\": 4, \"Preis\": 14500, \"Alter\": 3.38, \"KM\": 73000}, {\"obs\": 5, \"Preis\": 14100, \"Alter\": 3.46, \"KM\": 84400}, {\"obs\": 6, \"Preis\": 13480, \"Alter\": 3.55, \"KM\": 137500}, {\"obs\": 7, \"Preis\": 18000, \"Alter\": 2.53, \"KM\": 23000}, {\"obs\": 8, \"Preis\": 12350, \"Alter\": 4.23, \"KM\": 73000}, {\"obs\": 9, \"Preis\": 23900, \"Alter\": 0.17, \"KM\": 1800}, {\"obs\": 10, \"Preis\": 15900, \"Alter\": 2.87, \"KM\": 40500}, {\"obs\": 11, \"Preis\": 11100, \"Alter\": 5.33, \"KM\": 120300}, {\"obs\": 12, \"Preis\": 17800, \"Alter\": 1.86, \"KM\": 35000}, {\"obs\": 13, \"Preis\": 11900, \"Alter\": 4.73, \"KM\": 73900}, {\"obs\": 14, \"Preis\": 17700, \"Alter\": 2.28, \"KM\": 25100}, {\"obs\": 15, \"Preis\": 14320, \"Alter\": 3.81, \"KM\": 67210}, {\"obs\": 16, \"Preis\": 15000, \"Alter\": 2.7, \"KM\": 51500}, {\"obs\": 17, \"Preis\": 17500, \"Alter\": 2.37, \"KM\": 35900}, {\"obs\": 18, \"Preis\": 10700, \"Alter\": 4.56, \"KM\": 144000}, {\"obs\": 19, \"Preis\": 16900, \"Alter\": 2.7, \"KM\": 22000}, {\"obs\": 20, \"Preis\": 24000, \"Alter\": 0.34, \"KM\": 5500}, {\"obs\": 21, \"Preis\": 16900, \"Alter\": 1.69, \"KM\": 31000}, {\"obs\": 22, \"Preis\": 17200, \"Alter\": 2.79, \"KM\": 27570}, {\"obs\": 23, \"Preis\": 28400, \"Alter\": 0.26, \"KM\": 1500}, {\"obs\": 24, \"Preis\": 15600, \"Alter\": 2.28, \"KM\": 21700}, {\"obs\": 25, \"Preis\": 15200, \"Alter\": 2.53, \"KM\": 27000}, {\"obs\": 26, \"Preis\": 10000, \"Alter\": 4.31, \"KM\": 100500}, {\"obs\": 27, \"Preis\": 8950, \"Alter\": 5.24, \"KM\": 132000}, {\"obs\": 28, \"Preis\": 14000, \"Alter\": 3.55, \"KM\": 97700}, {\"obs\": 29, \"Preis\": 18500, \"Alter\": 1.69, \"KM\": 28660}, {\"obs\": 30, \"Preis\": 21850, \"Alter\": 1.61, \"KM\": 25900}, {\"obs\": 31, \"Preis\": 13250, \"Alter\": 3.81, \"KM\": 58000}, {\"obs\": 32, \"Preis\": 15300, \"Alter\": 3.55, \"KM\": 73000}, {\"obs\": 33, \"Preis\": 20100, \"Alter\": 0.84, \"KM\": 18000}, {\"obs\": 34, \"Preis\": 18890, \"Alter\": 1.1, \"KM\": 13181}, {\"obs\": 35, \"Preis\": 19000, \"Alter\": 1.36, \"KM\": 19000}, {\"obs\": 36, \"Preis\": 18600, \"Alter\": 2.11, \"KM\": 27000}, {\"obs\": 37, \"Preis\": 10200, \"Alter\": 4.99, \"KM\": 90000}, {\"obs\": 38, \"Preis\": 17700, \"Alter\": 2.03, \"KM\": 33000}, {\"obs\": 39, \"Preis\": 18890, \"Alter\": 1.27, \"KM\": 22500}, {\"obs\": 40, \"Preis\": 14500, \"Alter\": 3.38, \"KM\": 49000}, {\"obs\": 41, \"Preis\": 18500, \"Alter\": 2.11, \"KM\": 25880}, {\"obs\": 42, \"Preis\": 19700, \"Alter\": 1.43, \"KM\": 14100}, {\"obs\": 43, \"Preis\": 6700, \"Alter\": 5.49, \"KM\": 142000}, {\"obs\": 44, \"Preis\": 19700, \"Alter\": 1.02, \"KM\": 12600}, {\"obs\": 45, \"Preis\": 15500, \"Alter\": 3.13, \"KM\": 39000}, {\"obs\": 46, \"Preis\": 14500, \"Alter\": 2.28, \"KM\": 83300}, {\"obs\": 47, \"Preis\": 12500, \"Alter\": 4.23, \"KM\": 59200}, {\"obs\": 48, \"Preis\": 11500, \"Alter\": 4.48, \"KM\": 118000}, {\"obs\": 49, \"Preis\": 17500, \"Alter\": 2.11, \"KM\": 29800}, {\"obs\": 50, \"Preis\": 18500, \"Alter\": 2.11, \"KM\": 19230}, {\"obs\": 51, \"Preis\": 10500, \"Alter\": 4.9, \"KM\": 107000}, {\"obs\": 52, \"Preis\": 19300, \"Alter\": 1.19, \"KM\": 5000}, {\"obs\": 53, \"Preis\": 22800, \"Alter\": 0.26, \"KM\": 5000}, {\"obs\": 54, \"Preis\": 10000, \"Alter\": 3.78, \"KM\": 188000}, {\"obs\": 55, \"Preis\": 12350, \"Alter\": 3.72, \"KM\": 75000}, {\"obs\": 56, \"Preis\": 14450, \"Alter\": 2.87, \"KM\": 90000}, {\"obs\": 57, \"Preis\": 16900, \"Alter\": 2.11, \"KM\": 55000}, {\"obs\": 58, \"Preis\": 19980, \"Alter\": 0.59, \"KM\": 1500}, {\"obs\": 59, \"Preis\": 20000, \"Alter\": 1.27, \"KM\": 16500}, {\"obs\": 60, \"Preis\": 18500, \"Alter\": 1.69, \"KM\": 29300}, {\"obs\": 61, \"Preis\": 14000, \"Alter\": 3.21, \"KM\": 56400}]}}, {\"mode\": \"vega-lite\"});\n</script>",
      "text/plain": "alt.RepeatChart(...)"
     },
     "metadata": {},
     "output_type": "execute_result",
     "execution_count": 70
    }
   ],
   "source": [
    "alt.Chart(df, title=\"Histogram\").mark_bar().encode(\n",
    "    alt.X(alt.repeat(\"column\"), type='quantitative'),\n",
    "    alt.Y(alt.repeat(\"row\"), type='quantitative'),\n",
    "    color='species:N'\n",
    ").repeat(\n",
    "    row=['KM','Alter'],\n",
    "    column=['Preis','Alter']\n",
    ")"
   ]
  },
  {
   "cell_type": "code",
   "execution_count": 71,
   "metadata": {
    "pycharm": {
     "is_executing": false
    }
   },
   "outputs": [
    {
     "data": {
      "text/html": "\n<div id=\"altair-viz-2f5f8fd375f24bc29ae9e167e88217be\"></div>\n<script type=\"text/javascript\">\n  (function(spec, embedOpt){\n    const outputDiv = document.getElementById(\"altair-viz-2f5f8fd375f24bc29ae9e167e88217be\");\n    const paths = {\n      \"vega\": \"https://cdn.jsdelivr.net/npm//vega@5?noext\",\n      \"vega-lib\": \"https://cdn.jsdelivr.net/npm//vega-lib?noext\",\n      \"vega-lite\": \"https://cdn.jsdelivr.net/npm//vega-lite@4.0.2?noext\",\n      \"vega-embed\": \"https://cdn.jsdelivr.net/npm//vega-embed@6?noext\",\n    };\n\n    function loadScript(lib) {\n      return new Promise(function(resolve, reject) {\n        var s = document.createElement('script');\n        s.src = paths[lib];\n        s.async = true;\n        s.onload = () => resolve(paths[lib]);\n        s.onerror = () => reject(`Error loading script: ${paths[lib]}`);\n        document.getElementsByTagName(\"head\")[0].appendChild(s);\n      });\n    }\n\n    function showError(err) {\n      outputDiv.innerHTML = `<div class=\"error\" style=\"color:red;\">${err}</div>`;\n      throw err;\n    }\n\n    function displayChart(vegaEmbed) {\n      vegaEmbed(outputDiv, spec, embedOpt)\n        .catch(err => showError(`Javascript Error: ${err.message}<br>This usually means there's a typo in your chart specification. See the javascript console for the full traceback.`));\n    }\n\n    if(typeof define === \"function\" && define.amd) {\n      requirejs.config({paths});\n      require([\"vega-embed\"], displayChart, err => showError(`Error loading script: ${err.message}`));\n    } else if (typeof vegaEmbed === \"function\") {\n      displayChart(vegaEmbed);\n    } else {\n      loadScript(\"vega\")\n        .then(() => loadScript(\"vega-lite\"))\n        .then(() => loadScript(\"vega-embed\"))\n        .catch(showError)\n        .then(() => displayChart(vegaEmbed));\n    }\n  })({\"config\": {\"view\": {\"continuousWidth\": 400, \"continuousHeight\": 300}}, \"repeat\": {\"column\": [\"Preis\", \"Alter\", \"KM\"]}, \"spec\": {\"data\": {\"name\": \"data-39f9811772bb6e80e6bed2a18e547576\"}, \"mark\": \"bar\", \"encoding\": {\"color\": {\"type\": \"nominal\", \"field\": \"species\"}, \"x\": {\"type\": \"quantitative\", \"bin\": true, \"field\": {\"repeat\": \"column\"}}, \"y\": {\"type\": \"quantitative\", \"aggregate\": \"count\"}}, \"title\": \"Frequency Histogram\"}, \"$schema\": \"https://vega.github.io/schema/vega-lite/v4.0.2.json\", \"datasets\": {\"data-39f9811772bb6e80e6bed2a18e547576\": [{\"obs\": 1, \"Preis\": 16990, \"Alter\": 2.37, \"KM\": 46200}, {\"obs\": 2, \"Preis\": 14000, \"Alter\": 3.38, \"KM\": 92600}, {\"obs\": 3, \"Preis\": 18000, \"Alter\": 2.28, \"KM\": 35000}, {\"obs\": 4, \"Preis\": 14500, \"Alter\": 3.38, \"KM\": 73000}, {\"obs\": 5, \"Preis\": 14100, \"Alter\": 3.46, \"KM\": 84400}, {\"obs\": 6, \"Preis\": 13480, \"Alter\": 3.55, \"KM\": 137500}, {\"obs\": 7, \"Preis\": 18000, \"Alter\": 2.53, \"KM\": 23000}, {\"obs\": 8, \"Preis\": 12350, \"Alter\": 4.23, \"KM\": 73000}, {\"obs\": 9, \"Preis\": 23900, \"Alter\": 0.17, \"KM\": 1800}, {\"obs\": 10, \"Preis\": 15900, \"Alter\": 2.87, \"KM\": 40500}, {\"obs\": 11, \"Preis\": 11100, \"Alter\": 5.33, \"KM\": 120300}, {\"obs\": 12, \"Preis\": 17800, \"Alter\": 1.86, \"KM\": 35000}, {\"obs\": 13, \"Preis\": 11900, \"Alter\": 4.73, \"KM\": 73900}, {\"obs\": 14, \"Preis\": 17700, \"Alter\": 2.28, \"KM\": 25100}, {\"obs\": 15, \"Preis\": 14320, \"Alter\": 3.81, \"KM\": 67210}, {\"obs\": 16, \"Preis\": 15000, \"Alter\": 2.7, \"KM\": 51500}, {\"obs\": 17, \"Preis\": 17500, \"Alter\": 2.37, \"KM\": 35900}, {\"obs\": 18, \"Preis\": 10700, \"Alter\": 4.56, \"KM\": 144000}, {\"obs\": 19, \"Preis\": 16900, \"Alter\": 2.7, \"KM\": 22000}, {\"obs\": 20, \"Preis\": 24000, \"Alter\": 0.34, \"KM\": 5500}, {\"obs\": 21, \"Preis\": 16900, \"Alter\": 1.69, \"KM\": 31000}, {\"obs\": 22, \"Preis\": 17200, \"Alter\": 2.79, \"KM\": 27570}, {\"obs\": 23, \"Preis\": 28400, \"Alter\": 0.26, \"KM\": 1500}, {\"obs\": 24, \"Preis\": 15600, \"Alter\": 2.28, \"KM\": 21700}, {\"obs\": 25, \"Preis\": 15200, \"Alter\": 2.53, \"KM\": 27000}, {\"obs\": 26, \"Preis\": 10000, \"Alter\": 4.31, \"KM\": 100500}, {\"obs\": 27, \"Preis\": 8950, \"Alter\": 5.24, \"KM\": 132000}, {\"obs\": 28, \"Preis\": 14000, \"Alter\": 3.55, \"KM\": 97700}, {\"obs\": 29, \"Preis\": 18500, \"Alter\": 1.69, \"KM\": 28660}, {\"obs\": 30, \"Preis\": 21850, \"Alter\": 1.61, \"KM\": 25900}, {\"obs\": 31, \"Preis\": 13250, \"Alter\": 3.81, \"KM\": 58000}, {\"obs\": 32, \"Preis\": 15300, \"Alter\": 3.55, \"KM\": 73000}, {\"obs\": 33, \"Preis\": 20100, \"Alter\": 0.84, \"KM\": 18000}, {\"obs\": 34, \"Preis\": 18890, \"Alter\": 1.1, \"KM\": 13181}, {\"obs\": 35, \"Preis\": 19000, \"Alter\": 1.36, \"KM\": 19000}, {\"obs\": 36, \"Preis\": 18600, \"Alter\": 2.11, \"KM\": 27000}, {\"obs\": 37, \"Preis\": 10200, \"Alter\": 4.99, \"KM\": 90000}, {\"obs\": 38, \"Preis\": 17700, \"Alter\": 2.03, \"KM\": 33000}, {\"obs\": 39, \"Preis\": 18890, \"Alter\": 1.27, \"KM\": 22500}, {\"obs\": 40, \"Preis\": 14500, \"Alter\": 3.38, \"KM\": 49000}, {\"obs\": 41, \"Preis\": 18500, \"Alter\": 2.11, \"KM\": 25880}, {\"obs\": 42, \"Preis\": 19700, \"Alter\": 1.43, \"KM\": 14100}, {\"obs\": 43, \"Preis\": 6700, \"Alter\": 5.49, \"KM\": 142000}, {\"obs\": 44, \"Preis\": 19700, \"Alter\": 1.02, \"KM\": 12600}, {\"obs\": 45, \"Preis\": 15500, \"Alter\": 3.13, \"KM\": 39000}, {\"obs\": 46, \"Preis\": 14500, \"Alter\": 2.28, \"KM\": 83300}, {\"obs\": 47, \"Preis\": 12500, \"Alter\": 4.23, \"KM\": 59200}, {\"obs\": 48, \"Preis\": 11500, \"Alter\": 4.48, \"KM\": 118000}, {\"obs\": 49, \"Preis\": 17500, \"Alter\": 2.11, \"KM\": 29800}, {\"obs\": 50, \"Preis\": 18500, \"Alter\": 2.11, \"KM\": 19230}, {\"obs\": 51, \"Preis\": 10500, \"Alter\": 4.9, \"KM\": 107000}, {\"obs\": 52, \"Preis\": 19300, \"Alter\": 1.19, \"KM\": 5000}, {\"obs\": 53, \"Preis\": 22800, \"Alter\": 0.26, \"KM\": 5000}, {\"obs\": 54, \"Preis\": 10000, \"Alter\": 3.78, \"KM\": 188000}, {\"obs\": 55, \"Preis\": 12350, \"Alter\": 3.72, \"KM\": 75000}, {\"obs\": 56, \"Preis\": 14450, \"Alter\": 2.87, \"KM\": 90000}, {\"obs\": 57, \"Preis\": 16900, \"Alter\": 2.11, \"KM\": 55000}, {\"obs\": 58, \"Preis\": 19980, \"Alter\": 0.59, \"KM\": 1500}, {\"obs\": 59, \"Preis\": 20000, \"Alter\": 1.27, \"KM\": 16500}, {\"obs\": 60, \"Preis\": 18500, \"Alter\": 1.69, \"KM\": 29300}, {\"obs\": 61, \"Preis\": 14000, \"Alter\": 3.21, \"KM\": 56400}]}}, {\"mode\": \"vega-lite\"});\n</script>",
      "text/plain": "alt.RepeatChart(...)"
     },
     "metadata": {},
     "output_type": "execute_result",
     "execution_count": 71
    }
   ],
   "source": [
    "alt.Chart(df, title=\"Frequency Histogram\").mark_bar().encode(\n",
    "    alt.X(alt.repeat(\"column\"), type='quantitative',bin=True),\n",
    "     y='count()',\n",
    "    color='species:N'\n",
    ").repeat(\n",
    "    column=['Preis','Alter','KM']\n",
    ")"
   ]
  },
  {
   "cell_type": "markdown",
   "metadata": {},
   "source": [
    "Linear Regression"
   ]
  },
  {
   "cell_type": "code",
   "execution_count": 72,
   "metadata": {
    "pycharm": {
     "name": "#%%\n",
     "is_executing": false
    }
   },
   "outputs": [
    {
     "data": {
      "text/html": "\n<div id=\"altair-viz-9eb5a3dbabc54b1ba4f4674b89db537b\"></div>\n<script type=\"text/javascript\">\n  (function(spec, embedOpt){\n    const outputDiv = document.getElementById(\"altair-viz-9eb5a3dbabc54b1ba4f4674b89db537b\");\n    const paths = {\n      \"vega\": \"https://cdn.jsdelivr.net/npm//vega@5?noext\",\n      \"vega-lib\": \"https://cdn.jsdelivr.net/npm//vega-lib?noext\",\n      \"vega-lite\": \"https://cdn.jsdelivr.net/npm//vega-lite@4.0.2?noext\",\n      \"vega-embed\": \"https://cdn.jsdelivr.net/npm//vega-embed@6?noext\",\n    };\n\n    function loadScript(lib) {\n      return new Promise(function(resolve, reject) {\n        var s = document.createElement('script');\n        s.src = paths[lib];\n        s.async = true;\n        s.onload = () => resolve(paths[lib]);\n        s.onerror = () => reject(`Error loading script: ${paths[lib]}`);\n        document.getElementsByTagName(\"head\")[0].appendChild(s);\n      });\n    }\n\n    function showError(err) {\n      outputDiv.innerHTML = `<div class=\"error\" style=\"color:red;\">${err}</div>`;\n      throw err;\n    }\n\n    function displayChart(vegaEmbed) {\n      vegaEmbed(outputDiv, spec, embedOpt)\n        .catch(err => showError(`Javascript Error: ${err.message}<br>This usually means there's a typo in your chart specification. See the javascript console for the full traceback.`));\n    }\n\n    if(typeof define === \"function\" && define.amd) {\n      requirejs.config({paths});\n      require([\"vega-embed\"], displayChart, err => showError(`Error loading script: ${err.message}`));\n    } else if (typeof vegaEmbed === \"function\") {\n      displayChart(vegaEmbed);\n    } else {\n      loadScript(\"vega\")\n        .then(() => loadScript(\"vega-lite\"))\n        .then(() => loadScript(\"vega-embed\"))\n        .catch(showError)\n        .then(() => displayChart(vegaEmbed));\n    }\n  })({\"config\": {\"view\": {\"continuousWidth\": 400, \"continuousHeight\": 300}}, \"data\": {\"name\": \"data-39f9811772bb6e80e6bed2a18e547576\"}, \"mark\": \"point\", \"encoding\": {\"x\": {\"type\": \"quantitative\", \"field\": \"Alter\"}, \"y\": {\"type\": \"quantitative\", \"field\": \"Preis\"}}, \"title\": \"Linear Regression\", \"$schema\": \"https://vega.github.io/schema/vega-lite/v4.0.2.json\", \"datasets\": {\"data-39f9811772bb6e80e6bed2a18e547576\": [{\"obs\": 1, \"Preis\": 16990, \"Alter\": 2.37, \"KM\": 46200}, {\"obs\": 2, \"Preis\": 14000, \"Alter\": 3.38, \"KM\": 92600}, {\"obs\": 3, \"Preis\": 18000, \"Alter\": 2.28, \"KM\": 35000}, {\"obs\": 4, \"Preis\": 14500, \"Alter\": 3.38, \"KM\": 73000}, {\"obs\": 5, \"Preis\": 14100, \"Alter\": 3.46, \"KM\": 84400}, {\"obs\": 6, \"Preis\": 13480, \"Alter\": 3.55, \"KM\": 137500}, {\"obs\": 7, \"Preis\": 18000, \"Alter\": 2.53, \"KM\": 23000}, {\"obs\": 8, \"Preis\": 12350, \"Alter\": 4.23, \"KM\": 73000}, {\"obs\": 9, \"Preis\": 23900, \"Alter\": 0.17, \"KM\": 1800}, {\"obs\": 10, \"Preis\": 15900, \"Alter\": 2.87, \"KM\": 40500}, {\"obs\": 11, \"Preis\": 11100, \"Alter\": 5.33, \"KM\": 120300}, {\"obs\": 12, \"Preis\": 17800, \"Alter\": 1.86, \"KM\": 35000}, {\"obs\": 13, \"Preis\": 11900, \"Alter\": 4.73, \"KM\": 73900}, {\"obs\": 14, \"Preis\": 17700, \"Alter\": 2.28, \"KM\": 25100}, {\"obs\": 15, \"Preis\": 14320, \"Alter\": 3.81, \"KM\": 67210}, {\"obs\": 16, \"Preis\": 15000, \"Alter\": 2.7, \"KM\": 51500}, {\"obs\": 17, \"Preis\": 17500, \"Alter\": 2.37, \"KM\": 35900}, {\"obs\": 18, \"Preis\": 10700, \"Alter\": 4.56, \"KM\": 144000}, {\"obs\": 19, \"Preis\": 16900, \"Alter\": 2.7, \"KM\": 22000}, {\"obs\": 20, \"Preis\": 24000, \"Alter\": 0.34, \"KM\": 5500}, {\"obs\": 21, \"Preis\": 16900, \"Alter\": 1.69, \"KM\": 31000}, {\"obs\": 22, \"Preis\": 17200, \"Alter\": 2.79, \"KM\": 27570}, {\"obs\": 23, \"Preis\": 28400, \"Alter\": 0.26, \"KM\": 1500}, {\"obs\": 24, \"Preis\": 15600, \"Alter\": 2.28, \"KM\": 21700}, {\"obs\": 25, \"Preis\": 15200, \"Alter\": 2.53, \"KM\": 27000}, {\"obs\": 26, \"Preis\": 10000, \"Alter\": 4.31, \"KM\": 100500}, {\"obs\": 27, \"Preis\": 8950, \"Alter\": 5.24, \"KM\": 132000}, {\"obs\": 28, \"Preis\": 14000, \"Alter\": 3.55, \"KM\": 97700}, {\"obs\": 29, \"Preis\": 18500, \"Alter\": 1.69, \"KM\": 28660}, {\"obs\": 30, \"Preis\": 21850, \"Alter\": 1.61, \"KM\": 25900}, {\"obs\": 31, \"Preis\": 13250, \"Alter\": 3.81, \"KM\": 58000}, {\"obs\": 32, \"Preis\": 15300, \"Alter\": 3.55, \"KM\": 73000}, {\"obs\": 33, \"Preis\": 20100, \"Alter\": 0.84, \"KM\": 18000}, {\"obs\": 34, \"Preis\": 18890, \"Alter\": 1.1, \"KM\": 13181}, {\"obs\": 35, \"Preis\": 19000, \"Alter\": 1.36, \"KM\": 19000}, {\"obs\": 36, \"Preis\": 18600, \"Alter\": 2.11, \"KM\": 27000}, {\"obs\": 37, \"Preis\": 10200, \"Alter\": 4.99, \"KM\": 90000}, {\"obs\": 38, \"Preis\": 17700, \"Alter\": 2.03, \"KM\": 33000}, {\"obs\": 39, \"Preis\": 18890, \"Alter\": 1.27, \"KM\": 22500}, {\"obs\": 40, \"Preis\": 14500, \"Alter\": 3.38, \"KM\": 49000}, {\"obs\": 41, \"Preis\": 18500, \"Alter\": 2.11, \"KM\": 25880}, {\"obs\": 42, \"Preis\": 19700, \"Alter\": 1.43, \"KM\": 14100}, {\"obs\": 43, \"Preis\": 6700, \"Alter\": 5.49, \"KM\": 142000}, {\"obs\": 44, \"Preis\": 19700, \"Alter\": 1.02, \"KM\": 12600}, {\"obs\": 45, \"Preis\": 15500, \"Alter\": 3.13, \"KM\": 39000}, {\"obs\": 46, \"Preis\": 14500, \"Alter\": 2.28, \"KM\": 83300}, {\"obs\": 47, \"Preis\": 12500, \"Alter\": 4.23, \"KM\": 59200}, {\"obs\": 48, \"Preis\": 11500, \"Alter\": 4.48, \"KM\": 118000}, {\"obs\": 49, \"Preis\": 17500, \"Alter\": 2.11, \"KM\": 29800}, {\"obs\": 50, \"Preis\": 18500, \"Alter\": 2.11, \"KM\": 19230}, {\"obs\": 51, \"Preis\": 10500, \"Alter\": 4.9, \"KM\": 107000}, {\"obs\": 52, \"Preis\": 19300, \"Alter\": 1.19, \"KM\": 5000}, {\"obs\": 53, \"Preis\": 22800, \"Alter\": 0.26, \"KM\": 5000}, {\"obs\": 54, \"Preis\": 10000, \"Alter\": 3.78, \"KM\": 188000}, {\"obs\": 55, \"Preis\": 12350, \"Alter\": 3.72, \"KM\": 75000}, {\"obs\": 56, \"Preis\": 14450, \"Alter\": 2.87, \"KM\": 90000}, {\"obs\": 57, \"Preis\": 16900, \"Alter\": 2.11, \"KM\": 55000}, {\"obs\": 58, \"Preis\": 19980, \"Alter\": 0.59, \"KM\": 1500}, {\"obs\": 59, \"Preis\": 20000, \"Alter\": 1.27, \"KM\": 16500}, {\"obs\": 60, \"Preis\": 18500, \"Alter\": 1.69, \"KM\": 29300}, {\"obs\": 61, \"Preis\": 14000, \"Alter\": 3.21, \"KM\": 56400}]}}, {\"mode\": \"vega-lite\"});\n</script>",
      "text/plain": "alt.Chart(...)"
     },
     "metadata": {},
     "output_type": "execute_result",
     "execution_count": 72
    }
   ],
   "source": [
    "chart = alt.Chart(df, title=\"Linear Regression\").mark_point().encode(\n",
    "    x='Alter',\n",
    "    y='Preis'\n",
    ")#.interactive()\n",
    "chart"
   ]
  },
  {
   "cell_type": "code",
   "execution_count": 73,
   "metadata": {
    "pycharm": {
     "name": "#%%\n",
     "is_executing": false
    }
   },
   "outputs": [
    {
     "data": {
      "text/html": "\n<div id=\"altair-viz-8bc900643d61415ca09ba9cfff40b665\"></div>\n<script type=\"text/javascript\">\n  (function(spec, embedOpt){\n    const outputDiv = document.getElementById(\"altair-viz-8bc900643d61415ca09ba9cfff40b665\");\n    const paths = {\n      \"vega\": \"https://cdn.jsdelivr.net/npm//vega@5?noext\",\n      \"vega-lib\": \"https://cdn.jsdelivr.net/npm//vega-lib?noext\",\n      \"vega-lite\": \"https://cdn.jsdelivr.net/npm//vega-lite@4.0.2?noext\",\n      \"vega-embed\": \"https://cdn.jsdelivr.net/npm//vega-embed@6?noext\",\n    };\n\n    function loadScript(lib) {\n      return new Promise(function(resolve, reject) {\n        var s = document.createElement('script');\n        s.src = paths[lib];\n        s.async = true;\n        s.onload = () => resolve(paths[lib]);\n        s.onerror = () => reject(`Error loading script: ${paths[lib]}`);\n        document.getElementsByTagName(\"head\")[0].appendChild(s);\n      });\n    }\n\n    function showError(err) {\n      outputDiv.innerHTML = `<div class=\"error\" style=\"color:red;\">${err}</div>`;\n      throw err;\n    }\n\n    function displayChart(vegaEmbed) {\n      vegaEmbed(outputDiv, spec, embedOpt)\n        .catch(err => showError(`Javascript Error: ${err.message}<br>This usually means there's a typo in your chart specification. See the javascript console for the full traceback.`));\n    }\n\n    if(typeof define === \"function\" && define.amd) {\n      requirejs.config({paths});\n      require([\"vega-embed\"], displayChart, err => showError(`Error loading script: ${err.message}`));\n    } else if (typeof vegaEmbed === \"function\") {\n      displayChart(vegaEmbed);\n    } else {\n      loadScript(\"vega\")\n        .then(() => loadScript(\"vega-lite\"))\n        .then(() => loadScript(\"vega-embed\"))\n        .catch(showError)\n        .then(() => displayChart(vegaEmbed));\n    }\n  })({\"config\": {\"view\": {\"continuousWidth\": 400, \"continuousHeight\": 300}}, \"layer\": [{\"mark\": \"point\", \"encoding\": {\"x\": {\"type\": \"quantitative\", \"field\": \"Alter\"}, \"y\": {\"type\": \"quantitative\", \"field\": \"Preis\"}}, \"title\": \"Linear Regression\"}, {\"mark\": {\"type\": \"line\", \"color\": \"red\"}, \"encoding\": {\"x\": {\"type\": \"quantitative\", \"field\": \"Alter\"}, \"y\": {\"type\": \"quantitative\", \"field\": \"Preis\"}}, \"title\": \"Linear Regression\", \"transform\": [{\"on\": \"Alter\", \"regression\": \"Preis\", \"method\": \"linear\"}]}], \"data\": {\"name\": \"data-39f9811772bb6e80e6bed2a18e547576\"}, \"$schema\": \"https://vega.github.io/schema/vega-lite/v4.0.2.json\", \"datasets\": {\"data-39f9811772bb6e80e6bed2a18e547576\": [{\"obs\": 1, \"Preis\": 16990, \"Alter\": 2.37, \"KM\": 46200}, {\"obs\": 2, \"Preis\": 14000, \"Alter\": 3.38, \"KM\": 92600}, {\"obs\": 3, \"Preis\": 18000, \"Alter\": 2.28, \"KM\": 35000}, {\"obs\": 4, \"Preis\": 14500, \"Alter\": 3.38, \"KM\": 73000}, {\"obs\": 5, \"Preis\": 14100, \"Alter\": 3.46, \"KM\": 84400}, {\"obs\": 6, \"Preis\": 13480, \"Alter\": 3.55, \"KM\": 137500}, {\"obs\": 7, \"Preis\": 18000, \"Alter\": 2.53, \"KM\": 23000}, {\"obs\": 8, \"Preis\": 12350, \"Alter\": 4.23, \"KM\": 73000}, {\"obs\": 9, \"Preis\": 23900, \"Alter\": 0.17, \"KM\": 1800}, {\"obs\": 10, \"Preis\": 15900, \"Alter\": 2.87, \"KM\": 40500}, {\"obs\": 11, \"Preis\": 11100, \"Alter\": 5.33, \"KM\": 120300}, {\"obs\": 12, \"Preis\": 17800, \"Alter\": 1.86, \"KM\": 35000}, {\"obs\": 13, \"Preis\": 11900, \"Alter\": 4.73, \"KM\": 73900}, {\"obs\": 14, \"Preis\": 17700, \"Alter\": 2.28, \"KM\": 25100}, {\"obs\": 15, \"Preis\": 14320, \"Alter\": 3.81, \"KM\": 67210}, {\"obs\": 16, \"Preis\": 15000, \"Alter\": 2.7, \"KM\": 51500}, {\"obs\": 17, \"Preis\": 17500, \"Alter\": 2.37, \"KM\": 35900}, {\"obs\": 18, \"Preis\": 10700, \"Alter\": 4.56, \"KM\": 144000}, {\"obs\": 19, \"Preis\": 16900, \"Alter\": 2.7, \"KM\": 22000}, {\"obs\": 20, \"Preis\": 24000, \"Alter\": 0.34, \"KM\": 5500}, {\"obs\": 21, \"Preis\": 16900, \"Alter\": 1.69, \"KM\": 31000}, {\"obs\": 22, \"Preis\": 17200, \"Alter\": 2.79, \"KM\": 27570}, {\"obs\": 23, \"Preis\": 28400, \"Alter\": 0.26, \"KM\": 1500}, {\"obs\": 24, \"Preis\": 15600, \"Alter\": 2.28, \"KM\": 21700}, {\"obs\": 25, \"Preis\": 15200, \"Alter\": 2.53, \"KM\": 27000}, {\"obs\": 26, \"Preis\": 10000, \"Alter\": 4.31, \"KM\": 100500}, {\"obs\": 27, \"Preis\": 8950, \"Alter\": 5.24, \"KM\": 132000}, {\"obs\": 28, \"Preis\": 14000, \"Alter\": 3.55, \"KM\": 97700}, {\"obs\": 29, \"Preis\": 18500, \"Alter\": 1.69, \"KM\": 28660}, {\"obs\": 30, \"Preis\": 21850, \"Alter\": 1.61, \"KM\": 25900}, {\"obs\": 31, \"Preis\": 13250, \"Alter\": 3.81, \"KM\": 58000}, {\"obs\": 32, \"Preis\": 15300, \"Alter\": 3.55, \"KM\": 73000}, {\"obs\": 33, \"Preis\": 20100, \"Alter\": 0.84, \"KM\": 18000}, {\"obs\": 34, \"Preis\": 18890, \"Alter\": 1.1, \"KM\": 13181}, {\"obs\": 35, \"Preis\": 19000, \"Alter\": 1.36, \"KM\": 19000}, {\"obs\": 36, \"Preis\": 18600, \"Alter\": 2.11, \"KM\": 27000}, {\"obs\": 37, \"Preis\": 10200, \"Alter\": 4.99, \"KM\": 90000}, {\"obs\": 38, \"Preis\": 17700, \"Alter\": 2.03, \"KM\": 33000}, {\"obs\": 39, \"Preis\": 18890, \"Alter\": 1.27, \"KM\": 22500}, {\"obs\": 40, \"Preis\": 14500, \"Alter\": 3.38, \"KM\": 49000}, {\"obs\": 41, \"Preis\": 18500, \"Alter\": 2.11, \"KM\": 25880}, {\"obs\": 42, \"Preis\": 19700, \"Alter\": 1.43, \"KM\": 14100}, {\"obs\": 43, \"Preis\": 6700, \"Alter\": 5.49, \"KM\": 142000}, {\"obs\": 44, \"Preis\": 19700, \"Alter\": 1.02, \"KM\": 12600}, {\"obs\": 45, \"Preis\": 15500, \"Alter\": 3.13, \"KM\": 39000}, {\"obs\": 46, \"Preis\": 14500, \"Alter\": 2.28, \"KM\": 83300}, {\"obs\": 47, \"Preis\": 12500, \"Alter\": 4.23, \"KM\": 59200}, {\"obs\": 48, \"Preis\": 11500, \"Alter\": 4.48, \"KM\": 118000}, {\"obs\": 49, \"Preis\": 17500, \"Alter\": 2.11, \"KM\": 29800}, {\"obs\": 50, \"Preis\": 18500, \"Alter\": 2.11, \"KM\": 19230}, {\"obs\": 51, \"Preis\": 10500, \"Alter\": 4.9, \"KM\": 107000}, {\"obs\": 52, \"Preis\": 19300, \"Alter\": 1.19, \"KM\": 5000}, {\"obs\": 53, \"Preis\": 22800, \"Alter\": 0.26, \"KM\": 5000}, {\"obs\": 54, \"Preis\": 10000, \"Alter\": 3.78, \"KM\": 188000}, {\"obs\": 55, \"Preis\": 12350, \"Alter\": 3.72, \"KM\": 75000}, {\"obs\": 56, \"Preis\": 14450, \"Alter\": 2.87, \"KM\": 90000}, {\"obs\": 57, \"Preis\": 16900, \"Alter\": 2.11, \"KM\": 55000}, {\"obs\": 58, \"Preis\": 19980, \"Alter\": 0.59, \"KM\": 1500}, {\"obs\": 59, \"Preis\": 20000, \"Alter\": 1.27, \"KM\": 16500}, {\"obs\": 60, \"Preis\": 18500, \"Alter\": 1.69, \"KM\": 29300}, {\"obs\": 61, \"Preis\": 14000, \"Alter\": 3.21, \"KM\": 56400}]}}, {\"mode\": \"vega-lite\"});\n</script>",
      "text/plain": "alt.LayerChart(...)"
     },
     "metadata": {},
     "output_type": "execute_result",
     "execution_count": 73
    }
   ],
   "source": [
    "chart + chart.transform_regression('Alter', 'Preis',method=\"linear\").mark_line(color=\"red\")"
   ]
  },
  {
   "cell_type": "markdown",
   "metadata": {},
   "source": [
    "Boxplot"
   ]
  },
  {
   "cell_type": "code",
   "execution_count": 74,
   "metadata": {
    "pycharm": {
     "name": "#%%\n",
     "is_executing": false
    }
   },
   "outputs": [
    {
     "data": {
      "text/plain": "Text(0.5, 1.0, 'Boxplot of Preis')"
     },
     "metadata": {},
     "output_type": "execute_result",
     "execution_count": 74
    },
    {
     "data": {
      "text/plain": "<Figure size 432x288 with 1 Axes>",
      "image/png": "[encoded data removed]"
     },
     "metadata": {
      "needs_background": "light"
     },
     "output_type": "display_data"
    }
   ],
   "source": [
    "df.boxplot(column=['Preis'])\n",
    "title_boxplot = 'Boxplot of Preis'\n",
    "plt.title( title_boxplot )"
   ]
  },
  {
   "cell_type": "markdown",
   "metadata": {},
   "source": [
    "Meadian of the variable KM"
   ]
  },
  {
   "cell_type": "code",
   "execution_count": 75,
   "metadata": {
    "pycharm": {
     "name": "#%%\n",
     "is_executing": false
    }
   },
   "outputs": [
    {
     "data": {
      "text/plain": "35900.0"
     },
     "metadata": {},
     "output_type": "execute_result",
     "execution_count": 75
    }
   ],
   "source": [
    "df[\"KM\"].median()\n"
   ]
  },
  {
   "cell_type": "markdown",
   "metadata": {},
   "source": [
    "Standart deviation of the variable Alter"
   ]
  },
  {
   "cell_type": "code",
   "execution_count": 76,
   "metadata": {
    "pycharm": {
     "is_executing": false
    }
   },
   "outputs": [
    {
     "data": {
      "text/plain": "1.3760751980977175"
     },
     "metadata": {},
     "output_type": "execute_result",
     "execution_count": 76
    }
   ],
   "source": [
    "df[\"Alter\"].std()"
   ]
  },
  {
   "cell_type": "markdown",
   "metadata": {},
   "source": [
    "variation of coefficient "
   ]
  },
  {
   "cell_type": "code",
   "execution_count": 77,
   "metadata": {
    "pycharm": {
     "is_executing": false
    }
   },
   "outputs": [
    {
     "name": "stdout",
     "text": [
      "vPreis: 0.2496774376273966\n",
      "vAlter: 0.5141213149014562\n",
      "vKM: 0.7974182548215634\n"
     ],
     "output_type": "stream"
    }
   ],
   "source": [
    "vPreis = df[\"Preis\"].std()/df[\"Preis\"].mean()\n",
    "vAlter = df[\"Alter\"].std()/df[\"Alter\"].mean()\n",
    "vKM = df[\"KM\"].std()/df[\"KM\"].mean()\n",
    "\n",
    "print(\"vPreis: \"+str(vPreis)+\"\\nvAlter: \"+str(vAlter)+\"\\nvKM: \"+str(vKM))"
   ]
  },
  {
   "cell_type": "markdown",
   "metadata": {},
   "source": [
    "Correlation Map:"
   ]
  },
  {
   "cell_type": "code",
   "execution_count": 78,
   "metadata": {
    "pycharm": {
     "is_executing": false
    }
   },
   "outputs": [
    {
     "data": {
      "text/plain": "<pandas.io.formats.style.Styler at 0x11f2647b8>",
      "text/html": "<style  type=\"text/css\" >\n    #T_be4caf68_5406_11ea_b36a_acde48001122row0_col0 {\n            background-color:  #b40426;\n            color:  #f1f1f1;\n        }    #T_be4caf68_5406_11ea_b36a_acde48001122row0_col1 {\n            background-color:  #3b4cc0;\n            color:  #f1f1f1;\n        }    #T_be4caf68_5406_11ea_b36a_acde48001122row0_col2 {\n            background-color:  #3b4cc0;\n            color:  #f1f1f1;\n        }    #T_be4caf68_5406_11ea_b36a_acde48001122row1_col0 {\n            background-color:  #3b4cc0;\n            color:  #f1f1f1;\n        }    #T_be4caf68_5406_11ea_b36a_acde48001122row1_col1 {\n            background-color:  #b40426;\n            color:  #f1f1f1;\n        }    #T_be4caf68_5406_11ea_b36a_acde48001122row1_col2 {\n            background-color:  #d24b40;\n            color:  #f1f1f1;\n        }    #T_be4caf68_5406_11ea_b36a_acde48001122row2_col0 {\n            background-color:  #485fd1;\n            color:  #f1f1f1;\n        }    #T_be4caf68_5406_11ea_b36a_acde48001122row2_col1 {\n            background-color:  #d1493f;\n            color:  #f1f1f1;\n        }    #T_be4caf68_5406_11ea_b36a_acde48001122row2_col2 {\n            background-color:  #b40426;\n            color:  #f1f1f1;\n        }</style><table id=\"T_be4caf68_5406_11ea_b36a_acde48001122\" ><thead>    <tr>        <th class=\"blank level0\" ></th>        <th class=\"col_heading level0 col0\" >Preis</th>        <th class=\"col_heading level0 col1\" >Alter</th>        <th class=\"col_heading level0 col2\" >KM</th>    </tr></thead><tbody>\n                <tr>\n                        <th id=\"T_be4caf68_5406_11ea_b36a_acde48001122level0_row0\" class=\"row_heading level0 row0\" >Preis</th>\n                        <td id=\"T_be4caf68_5406_11ea_b36a_acde48001122row0_col0\" class=\"data row0 col0\" >1.00</td>\n                        <td id=\"T_be4caf68_5406_11ea_b36a_acde48001122row0_col1\" class=\"data row0 col1\" >-0.94</td>\n                        <td id=\"T_be4caf68_5406_11ea_b36a_acde48001122row0_col2\" class=\"data row0 col2\" >-0.85</td>\n            </tr>\n            <tr>\n                        <th id=\"T_be4caf68_5406_11ea_b36a_acde48001122level0_row1\" class=\"row_heading level0 row1\" >Alter</th>\n                        <td id=\"T_be4caf68_5406_11ea_b36a_acde48001122row1_col0\" class=\"data row1 col0\" >-0.94</td>\n                        <td id=\"T_be4caf68_5406_11ea_b36a_acde48001122row1_col1\" class=\"data row1 col1\" >1.00</td>\n                        <td id=\"T_be4caf68_5406_11ea_b36a_acde48001122row1_col2\" class=\"data row1 col2\" >0.83</td>\n            </tr>\n            <tr>\n                        <th id=\"T_be4caf68_5406_11ea_b36a_acde48001122level0_row2\" class=\"row_heading level0 row2\" >KM</th>\n                        <td id=\"T_be4caf68_5406_11ea_b36a_acde48001122row2_col0\" class=\"data row2 col0\" >-0.85</td>\n                        <td id=\"T_be4caf68_5406_11ea_b36a_acde48001122row2_col1\" class=\"data row2 col1\" >0.83</td>\n                        <td id=\"T_be4caf68_5406_11ea_b36a_acde48001122row2_col2\" class=\"data row2 col2\" >1.00</td>\n            </tr>\n    </tbody></table>"
     },
     "metadata": {},
     "output_type": "execute_result",
     "execution_count": 78
    }
   ],
   "source": [
    "corr = df[[\"Preis\",\"Alter\",\"KM\"]].corr()\n",
    "#pandas\n",
    "corr.style.background_gradient(cmap='coolwarm').set_precision(2)"
   ]
  },
  {
   "cell_type": "code",
   "execution_count": 79,
   "metadata": {
    "pycharm": {
     "is_executing": false
    }
   },
   "outputs": [
    {
     "data": {
      "text/plain": "<Figure size 432x288 with 2 Axes>",
      "image/png": "[encoded data removed]"
     },
     "metadata": {
      "needs_background": "light"
     },
     "output_type": "display_data"
    }
   ],
   "source": [
    "#seaborn\n",
    "ax = sns.heatmap(\n",
    "    corr, \n",
    "    vmin=-1, vmax=1, center=0,\n",
    "    cmap=sns.diverging_palette(20, 220, n=200),\n",
    "    square=True\n",
    ")\n",
    "ax.set_xticklabels(\n",
    "    ax.get_xticklabels(),\n",
    "    rotation=45,\n",
    "    horizontalalignment='right'\n",
    ");"
   ]
  },
  {
   "cell_type": "code",
   "execution_count": 80,
   "metadata": {
    "pycharm": {
     "is_executing": false,
     "name": "#%%\n"
    }
   },
   "outputs": [
    {
     "data": {
      "text/plain": "  Variablen    Median          Mean\n0     Preis  16900.00  16140.163934\n1     Alter      2.53      2.676557\n2        KM  35900.00  53367.721311",
      "text/html": "<div>\n<style scoped>\n    .dataframe tbody tr th:only-of-type {\n        vertical-align: middle;\n    }\n\n    .dataframe tbody tr th {\n        vertical-align: top;\n    }\n\n    .dataframe thead th {\n        text-align: right;\n    }\n</style>\n<table border=\"1\" class=\"dataframe\">\n  <thead>\n    <tr style=\"text-align: right;\">\n      <th></th>\n      <th>Variablen</th>\n      <th>Median</th>\n      <th>Mean</th>\n    </tr>\n  </thead>\n  <tbody>\n    <tr>\n      <th>0</th>\n      <td>Preis</td>\n      <td>16900.00</td>\n      <td>16140.163934</td>\n    </tr>\n    <tr>\n      <th>1</th>\n      <td>Alter</td>\n      <td>2.53</td>\n      <td>2.676557</td>\n    </tr>\n    <tr>\n      <th>2</th>\n      <td>KM</td>\n      <td>35900.00</td>\n      <td>53367.721311</td>\n    </tr>\n  </tbody>\n</table>\n</div>"
     },
     "metadata": {},
     "output_type": "execute_result",
     "execution_count": 80
    }
   ],
   "source": [
    "file = r'~/CAS_DA/regression/fallbeispiel_test/Autopreise.xlsx'\n",
    "autos = pd.read_excel(file)\n",
    "autos['Alter'] = autos['Alter'].str.replace(',', '.').astype(float).astype(float)\n",
    "\n",
    "# 4. Skalierungen\n",
    "### 4.1 Definieren Sie folgende drei neuen Variablen:\n",
    "\n",
    "#Hinweis: Diese Transformationen sind nicht sinnvoll und dienen nur dem Umgang mit verschiedenen Skalierungen.\n",
    "\n",
    "#### 4.1.1 **Preis100** = Preis/100: gibt den Preis in Einheiten von CHF 100 an.\n",
    "autos.insert(4, 'Preis100', autos['Preis'] / 100)\n",
    "\n",
    "#### 4.1.2 **PreisUSD**: gibt den Preis in USD mittels Wechselkurs CHF/USD 1.10 an.\n",
    "autos.insert(5, 'PreisUSD', autos['Preis'] * 1.10)\n",
    " \n",
    "# #### 4.1.3 **KM1000** = KM/1000: gibt die km-Zahl in Einheiten von 1000 km an.\n",
    "autos.insert(6, 'KM1000', autos['KM'] / 1000)\n",
    "\n",
    "### 4.2 Vergleichen Sie die Standardabweichungen und Variationskoeffizienten für folgende Gruppenvariablen: (Preis, Preis100, PreisUSD) und (KM, KM1000). Was stellen Sie fest?\n",
    "\n",
    "sdPreis = autos.loc[:,\"Preis\"].std()   # Standardabweichung vom Preis\n",
    "sdPreis100 = autos.loc[:,\"Preis100\"].std()      # Standardabweichung vom Preis100\n",
    "sdPreisUSD = autos.loc[:,\"PreisUSD\"].std()\n",
    "\n",
    "vPreis = sdPreis/autos.loc[:,\"Preis\"].mean() # Variationskoeffizient vom Preis\n",
    "vPreis100 = sdPreis100/autos.loc[:,\"Preis100\"].mean()\n",
    "vPreisUSD = sdPreisUSD/autos.loc[:,\"PreisUSD\"].mean()\n",
    "\n",
    "sdKM = autos.loc[:,\"KM\"].std() # Standardabweichung\n",
    "sdKM1000 = autos.loc[:,\"KM1000\"].std()\n",
    "vKM = sdKM/autos.loc[:,\"KM\"].mean()\n",
    "vKM1000 = sdKM1000/autos.loc[:,\"KM1000\"].mean()\n",
    " \n",
    "Std_Abw = np.array([sdPreis, sdPreis100, sdPreisUSD, sdKM, sdKM1000])\n",
    "Var_koeff = np.array([vPreis, vPreis100, vPreisUSD, vKM, vKM1000])\n",
    "Variablen = np.array([\"Preis\", \"Preis100\", \"PreisUSD\", \"KM\", \"KM1000\"])\n",
    "\n",
    "dt = pd.DataFrame({'Variablen': Variablen, 'Std_Abw': Std_Abw, 'Var_koeff': Var_koeff})\n",
    "dt\n",
    "#Der Variationskoeffizient ist nominiert\n",
    "\n",
    "\n",
    "### 4.3 Schiefe und Kurtosis\n",
    "#### Vergleichen Sie die Schiefe und Kurtosis folgender Gruppenvariablen: (Preis, Preis100, PreisUSD) und (KM, KM1000).\n",
    "\n",
    "sPreis = autos.loc[:,\"Preis\"].skew()              # Schiefe vom Preis\n",
    "sPreis100 = autos.loc[:,\"Preis100\"].skew() \n",
    "sPreisUSD = autos.loc[:,\"PreisUSD\"].skew() \n",
    "\n",
    "sKM = autos.loc[:,\"KM\"].skew() \n",
    "sKM1000 = autos.loc[:,\"KM1000\"].skew() \n",
    "\n",
    "Schiefe = np.array([sPreis, sPreis100, sPreisUSD, sKM, sKM1000])\n",
    "\n",
    "kPreis = autos.loc[:,\"Preis\"].kurtosis()                 # Kurtosis\n",
    "kPreis100 = autos.loc[:,\"Preis100\"].kurtosis()\n",
    "kPreisUSD = autos.loc[:,\"PreisUSD\"].kurtosis()\n",
    "kKM = autos.loc[:,\"KM\"].kurtosis()   \n",
    "kKM1000 = autos.loc[:,\"KM1000\"].kurtosis()  \n",
    "Exzess = np.array([kPreis, kPreis100, kPreisUSD, kKM, kKM1000])\n",
    "\n",
    "Variablen = np.array([\"Preis\", \"Preis100\", \"PreisUSD\", \"KM\", \"KM1000\"])\n",
    "\n",
    "result = pd.DataFrame({'Schiefe': Schiefe, 'Exzess': Exzess, 'Variablen': Variablen})\n",
    "result\n",
    "\n",
    "\n",
    "\n",
    "### 4.5 Berechnen Sie die Schiefe und Kurtosis folgender Variablen: *Preis, Alter und KM*  \n",
    "\n",
    "sPreis = autos.loc[:,\"Preis\"].skew()      \n",
    "sAlter = autos.loc[:,\"Alter\"].skew() \n",
    "sKM = autos.loc[:,\"KM\"].skew() \n",
    "\n",
    "kPreis = autos.loc[:,\"Preis\"].kurtosis()        \n",
    "kAlter = autos.loc[:,\"Alter\"].kurtosis()                 # Kurtosis# Kurtosis\n",
    "kKM = autos.loc[:,\"KM\"].kurtosis()   \n",
    "\n",
    "Schiefe = np.array([sPreis, sAlter, sKM])\n",
    "Exzess = np.array([kPreis, kAlter, kKM])\n",
    " \n",
    "Var2 = np.array([\"Preis\", \"Alter\", \"KM\"])\n",
    "\n",
    "result = pd.DataFrame({'Var2': Var2, 'Schiefe': Schiefe, 'Exzess': Exzess})\n",
    "result\n",
    "\n",
    "### 4.6 Charakterisieren Sie Ihre Ergebnisse (rechtschief, linkschief oder symmetrisch?)  \n",
    "# Alle drei Verteilungen sind rechtsschief, da wir positive Werte bekommen.  \n",
    "# Begründung: Diese Variablen können nur positive Werte annehmen und können auch hohe Werte (insbesondere KM) aufweisen.*\n",
    "\n",
    "\n",
    "### 4.7. Bei rechtschiefen Verteilungen haben wir i.d.R. die Relation Median < Mittelwert.   \n",
    "### Prüfen Sie diese Lage für die Variablen Preis, Alter und KM.\n",
    "\n",
    "mPreis = autos.loc[:,\"Preis\"].mean()\n",
    "mAlter = autos.loc[:,\"Alter\"].mean()\n",
    "mKM = autos.loc[:,\"KM\"].mean()\n",
    "\n",
    "medianPreis = autos.loc[:,\"Preis\"].median()\n",
    "medianAlter = autos.loc[:,\"Alter\"].median()\n",
    "medianKM = autos.loc[:,\"KM\"].median()\n",
    "\n",
    "Mean = np.array([mPreis, mAlter, mKM])\n",
    "Median = np.array([medianPreis, medianAlter, medianKM])\n",
    "\n",
    "Variablen = np.array([\"Preis\", \"Alter\", \"KM\"])\n",
    "result = pd.DataFrame({'Variablen': Variablen, 'Median': Median, 'Mean': Mean})\n",
    "result\n",
    "\n",
    "# Diese Relation gilt als Faustregel und kann Ausnahmen wie in diesem Bsp. für die Variable *Preis*.   \n",
    "# Grundsätzlich stimmt diese Überschlagsrechnung aber.\n",
    "\n",
    "### 4.8. Interpretieren Sie konkret die (Exzess)-Kurtosis für *Preis und KM*.\n",
    "\n",
    "#Exzess-Kurtosis < 0 --> diese Verteilungen sind steilgipflig, d.h.sie haben mehr Ausreisser als die Normalverteilung.\n",
    "  "
   ]
  },
  {
   "cell_type": "code",
   "execution_count": 81,
   "outputs": [
    {
     "name": "stdout",
     "text": [
      "                            OLS Regression Results                            \n",
      "==============================================================================\n",
      "Dep. Variable:                  Preis   R-squared:                       0.887\n",
      "Model:                            OLS   Adj. R-squared:                  0.885\n",
      "Method:                 Least Squares   F-statistic:                     462.2\n",
      "Date:                Thu, 20 Feb 2020   Prob (F-statistic):           1.34e-29\n",
      "Time:                        18:30:53   Log-Likelihood:                -525.99\n",
      "No. Observations:                  61   AIC:                             1056.\n",
      "Df Residuals:                      59   BIC:                             1060.\n",
      "Df Model:                           1                                         \n",
      "Covariance Type:            nonrobust                                         \n",
      "==============================================================================\n",
      "                 coef    std err          t      P>|t|      [0.025      0.975]\n",
      "------------------------------------------------------------------------------\n",
      "Intercept   2.352e+04    385.394     61.032      0.000    2.28e+04    2.43e+04\n",
      "Alter      -2757.7664    128.276    -21.499      0.000   -3014.446   -2501.087\n",
      "==============================================================================\n",
      "Omnibus:                       19.105   Durbin-Watson:                   1.952\n",
      "Prob(Omnibus):                  0.000   Jarque-Bera (JB):               41.105\n",
      "Skew:                           0.915   Prob(JB):                     1.19e-09\n",
      "Kurtosis:                       6.581   Cond. No.                         7.21\n",
      "==============================================================================\n",
      "\n",
      "Warnings:\n",
      "[1] Standard Errors assume that the covariance matrix of the errors is correctly specified.\n"
     ],
     "output_type": "stream"
    }
   ],
   "source": [
    "# 5. Regressionen\n",
    "### Schätzen Sie folgende Regressionsmodelle: \n",
    "\n",
    "### 5.1 Modell 1:  Preis = b~0~ + b~1~Alter + u\n",
    "lm1 = smf.ols(formula='Preis ~ Alter', data=autos).fit()\n",
    "print(lm1.summary())\n",
    "\n",
    "### 5.1.1 Interpretieren Sie konkret den Regressionskoeffizienten b~Alter~ .\n",
    "\n",
    "#Modell 1: Preis = 23‘521.5 – 2‘757.77 Alter\n",
    "#Interpretation:** Der durchschnittliche Autopreis reduziert sich um 2'757.77 CHF pro Jahr.\n"
   ],
   "metadata": {
    "collapsed": false,
    "pycharm": {
     "name": "#%%\n",
     "is_executing": false
    }
   }
  },
  {
   "cell_type": "code",
   "execution_count": 82,
   "outputs": [
    {
     "name": "stdout",
     "text": [
      "                            OLS Regression Results                            \n",
      "==============================================================================\n",
      "Dep. Variable:                  Preis   R-squared:                       0.902\n",
      "Model:                            OLS   Adj. R-squared:                  0.899\n",
      "Method:                 Least Squares   F-statistic:                     268.3\n",
      "Date:                Thu, 20 Feb 2020   Prob (F-statistic):           4.87e-30\n",
      "Time:                        18:30:53   Log-Likelihood:                -521.46\n",
      "No. Observations:                  61   AIC:                             1049.\n",
      "Df Residuals:                      58   BIC:                             1055.\n",
      "Df Model:                           2                                         \n",
      "Covariance Type:            nonrobust                                         \n",
      "==============================================================================\n",
      "                 coef    std err          t      P>|t|      [0.025      0.975]\n",
      "------------------------------------------------------------------------------\n",
      "Intercept   2.318e+04    377.445     61.423      0.000    2.24e+04    2.39e+04\n",
      "Alter      -2202.7681    217.994    -10.105      0.000   -2639.130   -1766.406\n",
      "KM            -0.0215      0.007     -3.051      0.003      -0.036      -0.007\n",
      "==============================================================================\n",
      "Omnibus:                       35.583   Durbin-Watson:                   2.102\n",
      "Prob(Omnibus):                  0.000   Jarque-Bera (JB):              120.054\n",
      "Skew:                           1.610   Prob(JB):                     8.52e-27\n",
      "Kurtosis:                       9.072   Cond. No.                     1.71e+05\n",
      "==============================================================================\n",
      "\n",
      "Warnings:\n",
      "[1] Standard Errors assume that the covariance matrix of the errors is correctly specified.\n",
      "[2] The condition number is large, 1.71e+05. This might indicate that there are\n",
      "strong multicollinearity or other numerical problems.\n"
     ],
     "output_type": "stream"
    }
   ],
   "source": [
    "### 5.2 Modell 2: Preis = b~0~ + b~1~Alter + b~2~Km + u\n",
    "\n",
    "lm2 = smf.ols(formula='Preis ~ Alter + KM', data=autos).fit()\n",
    "print(lm2.summary())\n",
    "\n",
    "\n",
    "### 5.2.1 Interpretieren Sie konkret den Regressionskoeffizienten b~Alter~ (Modell 2).\n",
    "#Modell 2: Preis = 23‘183.6 – 2‘202.77 Alter – 0.0215 KM\n",
    "\n",
    "#Interpretation:** Der durchschnittliche jährliche Preisrückgang eines Gebrauchtautos beträgt CHF 2'202.77F, wenn der Kilometerstand konstant bleibt (c.p).\n",
    "\n",
    "###  5.2.2. Interpretieren Sie konkret den Regressionskoeffizienten b~KM~ (Modell 2).\n",
    "\n",
    "#Interpretation: **Der erwartete Wertverlust pro gefahrenen KM beträgt ca. 2.15 Rappen beim gleich bleibendem Alter (c.p.).\n",
    "\n",
    "\n",
    "###  5.2.3 Sind die Regressionskoeffizienten (Modell) statistisch signifikant? Betrachten Sie dabei jeweils die Sternchen und die t-Werte.\n",
    "#**Interpretation:**  \n",
    " # * Die Koeffizienten Alter und KM sind statistisch hoch signifikant mit drei Sterne (hoch signifikant) bzw. zwei Sterne (0.001 -> signifikant) \n",
    " # * Alle t-Werte sind als absoluter Wert grösser als 2 ((Daumregel) und somit kann H0 verworfen werden. \n",
    " # * Pr(>|t|)-Werte sind unter 5% somit kann H0 verworfen werden.\n"
   ],
   "metadata": {
    "collapsed": false,
    "pycharm": {
     "name": "#%%\n",
     "is_executing": false
    }
   }
  },
  {
   "cell_type": "code",
   "execution_count": 83,
   "outputs": [
    {
     "data": {
      "text/plain": "Intercept    23521.483921\nAlter        -2757.766394\ndtype: float64"
     },
     "metadata": {},
     "output_type": "execute_result",
     "execution_count": 83
    }
   ],
   "source": [
    "###  5.2.4 Warum ist ein Unterschied für den Schätzer b~2~ zwischen beiden Modellen zu vermerken?\n",
    "#TODO compareCoefs(lm1, lm2)\n",
    "#Kilometerstand und Preis sind hoch korreliert. Wenn der Kilometerstand nicht im Modell als Regressor berücksichtigt wird, kommt im Regressionskoeffizienten für das Alter im Modell 1 auch auf indirekter Weise der Kilometerstandseffekt zum Ausdruck. Wenn im Modell 2 der Kilometerstand aber als zusätzlicher Regressor berücksichtigt wird, wird dieser Effekt ‘kontrolliert’, d.h. der Regressionskoeffizient des Alters misst dann den jährlichen durchschnittlichen Wertverlust bei konstanter Kilometerzahl.\n",
    "\n",
    "lm1.params\n"
   ],
   "metadata": {
    "collapsed": false,
    "pycharm": {
     "name": "#%%\n",
     "is_executing": false
    }
   }
  },
  {
   "cell_type": "code",
   "execution_count": 84,
   "outputs": [
    {
     "name": "stdout",
     "text": [
      "13297.53\n"
     ],
     "output_type": "stream"
    }
   ],
   "source": [
    "###  5.2.5 Ermitteln Sie den erwarteten Preis eines Gebrauchtautos mit einem Alter von 4 Jahren und 50‘000 Km.\n",
    "erw_preis = 23183.61-2202.77*4-0.0215*50000\n",
    "print(erw_preis)"
   ],
   "metadata": {
    "collapsed": false,
    "pycharm": {
     "name": "#%%\n",
     "is_executing": false
    }
   }
  },
  {
   "cell_type": "code",
   "execution_count": 85,
   "outputs": [
    {
     "name": "stdout",
     "text": [
      "Intercept    23183.612753\n",
      "Alter        -2202.768082\n",
      "KM1000         -21.503891\n",
      "dtype: float64\n"
     ],
     "output_type": "stream"
    }
   ],
   "source": [
    "###  5.3. Schätzen Sie das  Modell 3: Preis = b~0~* + b~1~* Alter + b~2~* KM1000 + u*\n",
    "lm3 = smf.ols(formula='Preis ~ Alter + KM1000', data=autos).fit()\n",
    "print(lm3.params)\n",
    "\n",
    "###  5.3.1. Interpretieren Sie konkret den Koeffizienten b~2~ im Modell 3.\n",
    "#Interpretation:** Nimmt der Kilometerstand um eine Einheit (1'000 KM) zu, so ist ein Preisrückgang von ca. CHF 21.50 zu erwarten, c.p.\n",
    "#Der erwartete Wertverlust eines Gebrauchtswagens pro Tausend Kilometer beträt ca CHF 21.50, ceteris paribus (c.p.)\n",
    "\n",
    "\n"
   ],
   "metadata": {
    "collapsed": false,
    "pycharm": {
     "name": "#%%\n",
     "is_executing": false
    }
   }
  },
  {
   "cell_type": "code",
   "execution_count": 86,
   "outputs": [
    {
     "data": {
      "text/plain": "True"
     },
     "metadata": {},
     "output_type": "execute_result",
     "execution_count": 86
    }
   ],
   "source": [
    "###  5.3.2. Prüfen Sie den Zusammenhang zwischen b~2~ (Modell 2) und b~2~* (Modell 3).\n",
    "#Regressionsmodelle:\n",
    "#Modell 2: Preis = 23'180 -2'203 Alter –0.02150 KM\n",
    "#Modell 3: Preis = 231.8 -22.03 Alter –0.0002150 KM1000\n",
    "#b~3~* = -0.0002150 = b~3~/1000 = -0.02150/1000<br>\n",
    "\n",
    "(round(lm2.params['KM'], 8) == round(lm3.params['KM1000']/1000, 8))\n",
    "#round(coef(lm2)[3],8)==round(coef(lm3)[3]/1000,8)\n"
   ],
   "metadata": {
    "collapsed": false,
    "pycharm": {
     "name": "#%%\n",
     "is_executing": false
    }
   }
  },
  {
   "cell_type": "code",
   "execution_count": 87,
   "outputs": [
    {
     "name": "stdout",
     "text": [
      "                            OLS Regression Results                            \n",
      "==============================================================================\n",
      "Dep. Variable:               Preis100   R-squared:                       0.902\n",
      "Model:                            OLS   Adj. R-squared:                  0.899\n",
      "Method:                 Least Squares   F-statistic:                     268.3\n",
      "Date:                Thu, 20 Feb 2020   Prob (F-statistic):           4.87e-30\n",
      "Time:                        18:30:53   Log-Likelihood:                -240.54\n",
      "No. Observations:                  61   AIC:                             487.1\n",
      "Df Residuals:                      58   BIC:                             493.4\n",
      "Df Model:                           2                                         \n",
      "Covariance Type:            nonrobust                                         \n",
      "==============================================================================\n",
      "                 coef    std err          t      P>|t|      [0.025      0.975]\n",
      "------------------------------------------------------------------------------\n",
      "Intercept    231.8361      3.774     61.423      0.000     224.281     239.392\n",
      "Alter        -22.0277      2.180    -10.105      0.000     -26.391     -17.664\n",
      "KM            -0.0002   7.05e-05     -3.051      0.003      -0.000   -7.39e-05\n",
      "==============================================================================\n",
      "Omnibus:                       35.583   Durbin-Watson:                   2.102\n",
      "Prob(Omnibus):                  0.000   Jarque-Bera (JB):              120.054\n",
      "Skew:                           1.610   Prob(JB):                     8.52e-27\n",
      "Kurtosis:                       9.072   Cond. No.                     1.71e+05\n",
      "==============================================================================\n",
      "\n",
      "Warnings:\n",
      "[1] Standard Errors assume that the covariance matrix of the errors is correctly specified.\n",
      "[2] The condition number is large, 1.71e+05. This might indicate that there are\n",
      "strong multicollinearity or other numerical problems.\n",
      "True\n",
      "True\n",
      "True\n",
      "                            OLS Regression Results                            \n",
      "==============================================================================\n",
      "Dep. Variable:               PreisUSD   R-squared:                       0.902\n",
      "Model:                            OLS   Adj. R-squared:                  0.899\n",
      "Method:                 Least Squares   F-statistic:                     268.3\n",
      "Date:                Thu, 20 Feb 2020   Prob (F-statistic):           4.87e-30\n",
      "Time:                        18:30:53   Log-Likelihood:                -527.27\n",
      "No. Observations:                  61   AIC:                             1061.\n",
      "Df Residuals:                      58   BIC:                             1067.\n",
      "Df Model:                           2                                         \n",
      "Covariance Type:            nonrobust                                         \n",
      "==============================================================================\n",
      "                 coef    std err          t      P>|t|      [0.025      0.975]\n",
      "------------------------------------------------------------------------------\n",
      "Intercept    2.55e+04    415.189     61.423      0.000    2.47e+04    2.63e+04\n",
      "Alter      -2423.0449    239.793    -10.105      0.000   -2903.043   -1943.047\n",
      "KM            -0.0237      0.008     -3.051      0.003      -0.039      -0.008\n",
      "==============================================================================\n",
      "Omnibus:                       35.583   Durbin-Watson:                   2.102\n",
      "Prob(Omnibus):                  0.000   Jarque-Bera (JB):              120.054\n",
      "Skew:                           1.610   Prob(JB):                     8.52e-27\n",
      "Kurtosis:                       9.072   Cond. No.                     1.71e+05\n",
      "==============================================================================\n",
      "\n",
      "Warnings:\n",
      "[1] Standard Errors assume that the covariance matrix of the errors is correctly specified.\n",
      "[2] The condition number is large, 1.71e+05. This might indicate that there are\n",
      "strong multicollinearity or other numerical problems.\n",
      "True\n",
      "True\n",
      "True\n"
     ],
     "output_type": "stream"
    }
   ],
   "source": [
    "###  5.4. Schätzen Sie das  Modell 4: Preis100 = b~0~* + b~1~* Alter + b~2~* KM + u*\n",
    "lm4 = smf.ols(formula='Preis100 ~ Alter + KM', data=autos).fit()\n",
    "print(lm4.summary())\n",
    "\n",
    "###  5.4.1. Interpretieren Sie konkret die Koeffizienten b~Alter~ und b~KM~ im Modell 4.\n",
    "\n",
    "#**Interpretation:**<br>\n",
    "#b~Alter~: Der Autopreis sinkt pro Jahr im Durchschnitt um 22.03 hundert Franken bzw. um 22.03 * 100 = CHF 2'203 ceteris paribus. (c.p.)\n",
    "#b~KM~: Nimmt der Kilometerstand um eine Einheit (1 km) zu, so ist ein Preisrückgang von ca. 0.000215 * 100 = CHF 0.0215 zu erwarten c.p.\n",
    "\n",
    "###  5.4.2 Prüfen Sie den Zusammenhang zwischen b~i~ und b~i~* für i = 0, 1,2 (Modell 2 vs Modell 4).\n",
    "\n",
    "#Regressionsmodelle:  \n",
    "#Modell 2: Preis = 23'180 -2'203 Alter –0.02150 KM\n",
    "#Modell 4: Preis100 = 231.8 -22.03 Alter –0.0002150 KM\n",
    "#b~0~* = 231.8 = b~0~/100 = 23‘183.6/100\n",
    "print(round(lm2.params['Intercept'], 8) == round(lm4.params['Intercept'] * 100, 8))\n",
    "print(round(lm2.params['Alter'], 8) == round(lm4.params['Alter'] * 100, 8))\n",
    "print(round(lm2.params['KM'], 8) == round(lm4.params['KM'] * 100, 8))\n",
    "\n",
    "#TODO CompareCoefs lm2 lm4\n",
    "\n",
    "\n",
    "###  5.5. Schätzen Sie das  Modell 5: PreisUSD = b~0~* + b~1~* Alter + b~2~* KM + u*\n",
    "lm5 = smf.ols(formula='PreisUSD ~ Alter + KM', data=autos).fit()\n",
    "print(lm5.summary())\n",
    "\n",
    "####  5.5.1. Prüfen Sie den Zusammenhang zwischen b~i~ (Modell 2) und b~i~* (Modell 5) für i = 0,1,2.\n",
    "\n",
    "#Regressionsmodelle:  \n",
    "#Modell 2: Preis = 23'180 -2'203 Alter –0.02150 KM\n",
    "#Modell 5: PreisUSD = 25'500 -2'423 Alter –0.02365 KM\n",
    "\n",
    "#TODO: compareCoefs(lm2, lm5)\n",
    "\n",
    "#b~1~* = 25‘501 = b~1~ x 1.10 = 23‘183.6 x 1.10\n",
    "print(round(lm2.params['Intercept'], 8) == round(lm5.params['Intercept'] / 1.1, 8))\n",
    "print(round(lm2.params['Alter'], 8) == round(lm5.params['Alter'] / 1.1, 8))\n",
    "print(round(lm2.params['KM'], 8) == round(lm5.params['KM'] / 1.1, 8))"
   ],
   "metadata": {
    "collapsed": false,
    "pycharm": {
     "name": "#%%\n",
     "is_executing": false
    }
   }
  },
  {
   "cell_type": "code",
   "execution_count": 88,
   "outputs": [
    {
     "name": "stdout",
     "text": [
      "                            OLS Regression Results                            \n",
      "==============================================================================\n",
      "Dep. Variable:               Preis100   R-squared:                       0.902\n",
      "Model:                            OLS   Adj. R-squared:                  0.899\n",
      "Method:                 Least Squares   F-statistic:                     268.3\n",
      "Date:                Thu, 20 Feb 2020   Prob (F-statistic):           4.87e-30\n",
      "Time:                        18:30:53   Log-Likelihood:                -240.54\n",
      "No. Observations:                  61   AIC:                             487.1\n",
      "Df Residuals:                      58   BIC:                             493.4\n",
      "Df Model:                           2                                         \n",
      "Covariance Type:            nonrobust                                         \n",
      "==============================================================================\n",
      "                 coef    std err          t      P>|t|      [0.025      0.975]\n",
      "------------------------------------------------------------------------------\n",
      "Intercept    231.8361      3.774     61.423      0.000     224.281     239.392\n",
      "Alter        -22.0277      2.180    -10.105      0.000     -26.391     -17.664\n",
      "KM1000        -0.2150      0.070     -3.051      0.003      -0.356      -0.074\n",
      "==============================================================================\n",
      "Omnibus:                       35.583   Durbin-Watson:                   2.102\n",
      "Prob(Omnibus):                  0.000   Jarque-Bera (JB):              120.054\n",
      "Skew:                           1.610   Prob(JB):                     8.52e-27\n",
      "Kurtosis:                       9.072   Cond. No.                         172.\n",
      "==============================================================================\n",
      "\n",
      "Warnings:\n",
      "[1] Standard Errors assume that the covariance matrix of the errors is correctly specified.\n",
      "True\n",
      "True\n",
      "True\n"
     ],
     "output_type": "stream"
    }
   ],
   "source": [
    "###  5.6. Schätzen Sie das  Modell 6: Preis100 = b~0~' + b~1~' Alter + b~2~' KM1000 + u'\n",
    "lm6 = smf.ols(formula='Preis100 ~ Alter + KM1000', data=autos).fit()\n",
    "print(lm6.summary())\n",
    "\n",
    "\n",
    "####  5.6.1. Interpretieren Sie konkret den Regressionskoeffizienten b~2~'\n",
    "#**Interpretation:** Nimmt der Kilometerstand um eine Einheit (1000km) zu, so ist ein Preisrückgang von CHF 0.2150 * 100 = CHF 21.50 zu erwarten. Unter der Voraussetzung, dass 2b gleich bleibt.\n",
    "\n",
    "####  5.6.2. Prüfen Sie den Zusammenhang zwischen b~i~ und b~i~' für i = 0,1,2. (Modell 2 vs Modell 6)\n",
    "\n",
    "#Regressionsmodelle:  \n",
    "#Modell 2: Preis = 23'180 -2'203 Alter –0.02150 KM\n",
    "#Modell 6: Preis100 = 231.83613 -22.02768 Alter –0.21504 KM1000\n",
    "\n",
    "#b~0~' = 231.83 = b~0~ / 1.10 = 23‘183.6 /100\n",
    "#print(lm2.params['Intercept'])\n",
    "#print(lm6.params['Intercept'])\n",
    "print(round(lm2.params['Intercept'], 7) == round(lm6.params['Intercept']*100, 7))\n",
    "print(round(lm2.params['Alter'], 8) == round(lm6.params['Alter'] * 100, 8))\n",
    "print(round(lm2.params['KM'], 8) == round(lm6.params['KM1000'] * 100 / 1000, 8))\n",
    "\n",
    "\n"
   ],
   "metadata": {
    "collapsed": false,
    "pycharm": {
     "name": "#%%\n",
     "is_executing": false
    }
   }
  }
 ],
 "metadata": {
  "kernelspec": {
   "display_name": "Python 3",
   "language": "python",
   "name": "python3"
  },
  "language_info": {
   "codemirror_mode": {
    "name": "ipython",
    "version": 3
   },
   "file_extension": ".py",
   "mimetype": "text/x-python",
   "name": "python",
   "nbconvert_exporter": "python",
   "pygments_lexer": "ipython3",
   "version": "3.7.2"
  },
  "pycharm": {
   "stem_cell": {
    "cell_type": "raw",
    "source": [],
    "metadata": {
     "collapsed": false
    }
   }
  }
 },
 "nbformat": 4,
 "nbformat_minor": 1
}